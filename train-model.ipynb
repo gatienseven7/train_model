{
 "cells": [
  {
   "cell_type": "code",
   "execution_count": 1,
   "id": "500f27f2",
   "metadata": {
    "execution": {
     "iopub.execute_input": "2025-04-13T12:30:33.616075Z",
     "iopub.status.busy": "2025-04-13T12:30:33.615868Z",
     "iopub.status.idle": "2025-04-13T12:30:47.267400Z",
     "shell.execute_reply": "2025-04-13T12:30:47.266617Z"
    },
    "papermill": {
     "duration": 13.657059,
     "end_time": "2025-04-13T12:30:47.268975",
     "exception": false,
     "start_time": "2025-04-13T12:30:33.611916",
     "status": "completed"
    },
    "tags": []
   },
   "outputs": [
    {
     "name": "stderr",
     "output_type": "stream",
     "text": [
      "2025-04-13 12:30:36.537751: E external/local_xla/xla/stream_executor/cuda/cuda_fft.cc:477] Unable to register cuFFT factory: Attempting to register factory for plugin cuFFT when one has already been registered\n",
      "WARNING: All log messages before absl::InitializeLog() is called are written to STDERR\n",
      "E0000 00:00:1744547436.723805      19 cuda_dnn.cc:8310] Unable to register cuDNN factory: Attempting to register factory for plugin cuDNN when one has already been registered\n",
      "E0000 00:00:1744547436.777102      19 cuda_blas.cc:1418] Unable to register cuBLAS factory: Attempting to register factory for plugin cuBLAS when one has already been registered\n"
     ]
    }
   ],
   "source": [
    "import numpy as np\n",
    "import pandas as pd\n",
    "import tensorflow as tf\n",
    "import matplotlib.pyplot as plt\n"
   ]
  },
  {
   "cell_type": "markdown",
   "id": "e4a8037b",
   "metadata": {
    "papermill": {
     "duration": 0.002427,
     "end_time": "2025-04-13T12:30:47.274594",
     "exception": false,
     "start_time": "2025-04-13T12:30:47.272167",
     "status": "completed"
    },
    "tags": []
   },
   "source": [
    "**Chargement des données**"
   ]
  },
  {
   "cell_type": "code",
   "execution_count": 2,
   "id": "18c7c47a",
   "metadata": {
    "execution": {
     "iopub.execute_input": "2025-04-13T12:30:47.281254Z",
     "iopub.status.busy": "2025-04-13T12:30:47.280370Z",
     "iopub.status.idle": "2025-04-13T12:30:51.642122Z",
     "shell.execute_reply": "2025-04-13T12:30:51.641271Z"
    },
    "papermill": {
     "duration": 4.366448,
     "end_time": "2025-04-13T12:30:51.643663",
     "exception": false,
     "start_time": "2025-04-13T12:30:47.277215",
     "status": "completed"
    },
    "tags": []
   },
   "outputs": [],
   "source": [
    "train_df = pd.read_csv(\"/kaggle/input/training-model/train.csv\")\n",
    "test_df = pd.read_csv(\"/kaggle/input/training-model/test.csv\")\n",
    "\n",
    "x_train = train_df.drop(\"label\", axis=1).values.reshape(-1, 28, 28, 1) / 255.0\n",
    "y_train = train_df[\"label\"].values\n",
    "\n",
    "x_test = x_train[-5000:]\n",
    "y_test = y_train[-5000:]\n",
    "x_train = x_train[:-5000]\n",
    "y_train = y_train[:-5000]"
   ]
  },
  {
   "cell_type": "markdown",
   "id": "7e88e473",
   "metadata": {
    "papermill": {
     "duration": 0.002703,
     "end_time": "2025-04-13T12:30:51.649671",
     "exception": false,
     "start_time": "2025-04-13T12:30:51.646968",
     "status": "completed"
    },
    "tags": []
   },
   "source": [
    "**Création du modèle (CNN)**"
   ]
  },
  {
   "cell_type": "code",
   "execution_count": 3,
   "id": "350846f8",
   "metadata": {
    "execution": {
     "iopub.execute_input": "2025-04-13T12:30:51.657122Z",
     "iopub.status.busy": "2025-04-13T12:30:51.656852Z",
     "iopub.status.idle": "2025-04-13T12:30:53.848334Z",
     "shell.execute_reply": "2025-04-13T12:30:53.847788Z"
    },
    "papermill": {
     "duration": 2.196096,
     "end_time": "2025-04-13T12:30:53.849682",
     "exception": false,
     "start_time": "2025-04-13T12:30:51.653586",
     "status": "completed"
    },
    "tags": []
   },
   "outputs": [
    {
     "name": "stderr",
     "output_type": "stream",
     "text": [
      "/usr/local/lib/python3.11/dist-packages/keras/src/layers/convolutional/base_conv.py:107: UserWarning: Do not pass an `input_shape`/`input_dim` argument to a layer. When using Sequential models, prefer using an `Input(shape)` object as the first layer in the model instead.\n",
      "  super().__init__(activity_regularizer=activity_regularizer, **kwargs)\n",
      "I0000 00:00:1744547452.694157      19 gpu_device.cc:2022] Created device /job:localhost/replica:0/task:0/device:GPU:0 with 15513 MB memory:  -> device: 0, name: Tesla P100-PCIE-16GB, pci bus id: 0000:00:04.0, compute capability: 6.0\n"
     ]
    }
   ],
   "source": [
    "def create_model():\n",
    "    model = tf.keras.Sequential([\n",
    "        tf.keras.layers.Conv2D(32, (3,3), activation='relu', input_shape=(28,28,1)),\n",
    "        tf.keras.layers.MaxPooling2D(),\n",
    "        tf.keras.layers.Flatten(),\n",
    "        tf.keras.layers.Dense(100, activation='relu'),\n",
    "        tf.keras.layers.Dense(10)\n",
    "    ])\n",
    "    return model\n",
    "\n",
    "model = create_model()\n",
    "loss_fn = tf.keras.losses.SparseCategoricalCrossentropy(from_logits=True)\n",
    "model.compile(optimizer='adam', loss=loss_fn, metrics=['accuracy'])\n"
   ]
  },
  {
   "cell_type": "markdown",
   "id": "97e17c26",
   "metadata": {
    "papermill": {
     "duration": 0.0025,
     "end_time": "2025-04-13T12:30:53.855045",
     "exception": false,
     "start_time": "2025-04-13T12:30:53.852545",
     "status": "completed"
    },
    "tags": []
   },
   "source": [
    "**Entraînement initial**"
   ]
  },
  {
   "cell_type": "code",
   "execution_count": 4,
   "id": "e0482d13",
   "metadata": {
    "execution": {
     "iopub.execute_input": "2025-04-13T12:30:53.860956Z",
     "iopub.status.busy": "2025-04-13T12:30:53.860713Z",
     "iopub.status.idle": "2025-04-13T12:31:06.701145Z",
     "shell.execute_reply": "2025-04-13T12:31:06.700503Z"
    },
    "papermill": {
     "duration": 12.844705,
     "end_time": "2025-04-13T12:31:06.702281",
     "exception": false,
     "start_time": "2025-04-13T12:30:53.857576",
     "status": "completed"
    },
    "tags": []
   },
   "outputs": [
    {
     "name": "stdout",
     "output_type": "stream",
     "text": [
      "Epoch 1/5\n"
     ]
    },
    {
     "name": "stderr",
     "output_type": "stream",
     "text": [
      "WARNING: All log messages before absl::InitializeLog() is called are written to STDERR\n",
      "I0000 00:00:1744547455.455884      60 service.cc:148] XLA service 0x7fc9c0004490 initialized for platform CUDA (this does not guarantee that XLA will be used). Devices:\n",
      "I0000 00:00:1744547455.456309      60 service.cc:156]   StreamExecutor device (0): Tesla P100-PCIE-16GB, Compute Capability 6.0\n",
      "I0000 00:00:1744547455.634279      60 cuda_dnn.cc:529] Loaded cuDNN version 90300\n"
     ]
    },
    {
     "name": "stdout",
     "output_type": "stream",
     "text": [
      "\u001b[1m 103/1041\u001b[0m \u001b[32m━\u001b[0m\u001b[37m━━━━━━━━━━━━━━━━━━━\u001b[0m \u001b[1m1s\u001b[0m 1ms/step - accuracy: 0.6338 - loss: 1.2048"
     ]
    },
    {
     "name": "stderr",
     "output_type": "stream",
     "text": [
      "I0000 00:00:1744547456.873146      60 device_compiler.h:188] Compiled cluster using XLA!  This line is logged at most once for the lifetime of the process.\n"
     ]
    },
    {
     "name": "stdout",
     "output_type": "stream",
     "text": [
      "\u001b[1m1041/1041\u001b[0m \u001b[32m━━━━━━━━━━━━━━━━━━━━\u001b[0m\u001b[37m\u001b[0m \u001b[1m6s\u001b[0m 3ms/step - accuracy: 0.8736 - loss: 0.4244 - val_accuracy: 0.9768 - val_loss: 0.0785\n",
      "Epoch 2/5\n",
      "\u001b[1m1041/1041\u001b[0m \u001b[32m━━━━━━━━━━━━━━━━━━━━\u001b[0m\u001b[37m\u001b[0m \u001b[1m2s\u001b[0m 2ms/step - accuracy: 0.9799 - loss: 0.0708 - val_accuracy: 0.9778 - val_loss: 0.0651\n",
      "Epoch 3/5\n",
      "\u001b[1m1041/1041\u001b[0m \u001b[32m━━━━━━━━━━━━━━━━━━━━\u001b[0m\u001b[37m\u001b[0m \u001b[1m2s\u001b[0m 2ms/step - accuracy: 0.9880 - loss: 0.0412 - val_accuracy: 0.9838 - val_loss: 0.0584\n",
      "Epoch 4/5\n",
      "\u001b[1m1041/1041\u001b[0m \u001b[32m━━━━━━━━━━━━━━━━━━━━\u001b[0m\u001b[37m\u001b[0m \u001b[1m2s\u001b[0m 2ms/step - accuracy: 0.9928 - loss: 0.0243 - val_accuracy: 0.9843 - val_loss: 0.0580\n",
      "Epoch 5/5\n",
      "\u001b[1m1041/1041\u001b[0m \u001b[32m━━━━━━━━━━━━━━━━━━━━\u001b[0m\u001b[37m\u001b[0m \u001b[1m2s\u001b[0m 2ms/step - accuracy: 0.9945 - loss: 0.0180 - val_accuracy: 0.9814 - val_loss: 0.0649\n"
     ]
    },
    {
     "data": {
      "text/plain": [
       "<keras.src.callbacks.history.History at 0x7fcab795fd90>"
      ]
     },
     "execution_count": 4,
     "metadata": {},
     "output_type": "execute_result"
    }
   ],
   "source": [
    "model.fit(x_train, y_train, epochs=5, validation_split=0.1)"
   ]
  },
  {
   "cell_type": "markdown",
   "id": "216b910f",
   "metadata": {
    "papermill": {
     "duration": 0.009341,
     "end_time": "2025-04-13T12:31:06.721727",
     "exception": false,
     "start_time": "2025-04-13T12:31:06.712386",
     "status": "completed"
    },
    "tags": []
   },
   "source": [
    "**On affiche l'évaluation propre**"
   ]
  },
  {
   "cell_type": "code",
   "execution_count": 5,
   "id": "a59ba260",
   "metadata": {
    "execution": {
     "iopub.execute_input": "2025-04-13T12:31:06.740692Z",
     "iopub.status.busy": "2025-04-13T12:31:06.740460Z",
     "iopub.status.idle": "2025-04-13T12:31:07.308478Z",
     "shell.execute_reply": "2025-04-13T12:31:07.307826Z"
    },
    "papermill": {
     "duration": 0.578787,
     "end_time": "2025-04-13T12:31:07.309655",
     "exception": false,
     "start_time": "2025-04-13T12:31:06.730868",
     "status": "completed"
    },
    "tags": []
   },
   "outputs": [
    {
     "name": "stdout",
     "output_type": "stream",
     "text": [
      "157/157 - 0s - 3ms/step - accuracy: 0.9826 - loss: 0.0598\n",
      "\n",
      "Clean test accuracy: 0.9825999736785889\n"
     ]
    }
   ],
   "source": [
    "clean_loss, clean_acc = model.evaluate(x_test, y_test, verbose=2)\n",
    "print(\"\\nClean test accuracy:\", clean_acc)"
   ]
  },
  {
   "cell_type": "markdown",
   "id": "577f9068",
   "metadata": {
    "papermill": {
     "duration": 0.008996,
     "end_time": "2025-04-13T12:31:07.328020",
     "exception": false,
     "start_time": "2025-04-13T12:31:07.319024",
     "status": "completed"
    },
    "tags": []
   },
   "source": [
    "**FGSM pour les exemples adversariales**"
   ]
  },
  {
   "cell_type": "code",
   "execution_count": 6,
   "id": "622ec2b9",
   "metadata": {
    "execution": {
     "iopub.execute_input": "2025-04-13T12:31:07.346852Z",
     "iopub.status.busy": "2025-04-13T12:31:07.346237Z",
     "iopub.status.idle": "2025-04-13T12:31:08.603363Z",
     "shell.execute_reply": "2025-04-13T12:31:08.602782Z"
    },
    "papermill": {
     "duration": 1.267805,
     "end_time": "2025-04-13T12:31:08.604636",
     "exception": false,
     "start_time": "2025-04-13T12:31:07.336831",
     "status": "completed"
    },
    "tags": []
   },
   "outputs": [],
   "source": [
    "def create_adversarial_pattern(model, image, label):\n",
    "    image = tf.convert_to_tensor(image[None, ...])\n",
    "    label = tf.convert_to_tensor(label[None])\n",
    "    \n",
    "    with tf.GradientTape() as tape:\n",
    "        tape.watch(image)\n",
    "        prediction = model(image)\n",
    "        loss = loss_fn(label, prediction)\n",
    "\n",
    "    gradient = tape.gradient(loss, image)\n",
    "    signed_grad = tf.sign(gradient)\n",
    "    return signed_grad\n",
    "\n",
    "epsilon = 0.1\n",
    "adversarial_examples = []\n",
    "for i in range(10):\n",
    "    image = x_test[i]\n",
    "    label = y_test[i]\n",
    "    perturbation = create_adversarial_pattern(model, image, label)\n",
    "    adversarial_img = image + epsilon * perturbation[0]\n",
    "    adversarial_img = tf.clip_by_value(adversarial_img, 0.0, 1.0)\n",
    "    adversarial_examples.append((image, adversarial_img.numpy(), label))"
   ]
  },
  {
   "cell_type": "markdown",
   "id": "e14a84fa",
   "metadata": {
    "papermill": {
     "duration": 0.008992,
     "end_time": "2025-04-13T12:31:08.623191",
     "exception": false,
     "start_time": "2025-04-13T12:31:08.614199",
     "status": "completed"
    },
    "tags": []
   },
   "source": [
    "**On doit visualiser à présent**"
   ]
  },
  {
   "cell_type": "code",
   "execution_count": 7,
   "id": "ca007278",
   "metadata": {
    "execution": {
     "iopub.execute_input": "2025-04-13T12:31:08.642194Z",
     "iopub.status.busy": "2025-04-13T12:31:08.641962Z",
     "iopub.status.idle": "2025-04-13T12:31:09.516346Z",
     "shell.execute_reply": "2025-04-13T12:31:09.515611Z"
    },
    "papermill": {
     "duration": 0.885818,
     "end_time": "2025-04-13T12:31:09.518071",
     "exception": false,
     "start_time": "2025-04-13T12:31:08.632253",
     "status": "completed"
    },
    "tags": []
   },
   "outputs": [
    {
     "data": {
      "image/png": "[encoded data removed]",
      "text/plain": [
       "<Figure size 1000x400 with 20 Axes>"
      ]
     },
     "metadata": {},
     "output_type": "display_data"
    }
   ],
   "source": [
    "plt.figure(figsize=(10, 4))\n",
    "for i, (orig, adv, label) in enumerate(adversarial_examples):\n",
    "    plt.subplot(2, 10, i+1)\n",
    "    plt.imshow(orig.squeeze(), cmap='gray')\n",
    "    plt.title(f\"Label: {label}\")\n",
    "    plt.axis('off')\n",
    "\n",
    "    plt.subplot(2, 10, i+11)\n",
    "    plt.imshow(adv.squeeze(), cmap='gray')\n",
    "    plt.title(\"Adv\")\n",
    "    plt.axis('off')\n",
    "plt.tight_layout()\n",
    "plt.show()"
   ]
  },
  {
   "cell_type": "markdown",
   "id": "1308ab8b",
   "metadata": {
    "papermill": {
     "duration": 0.009937,
     "end_time": "2025-04-13T12:31:09.538805",
     "exception": false,
     "start_time": "2025-04-13T12:31:09.528868",
     "status": "completed"
    },
    "tags": []
   },
   "source": [
    "**Entraînement sur les exemples adversaires**"
   ]
  },
  {
   "cell_type": "code",
   "execution_count": 8,
   "id": "044e69e3",
   "metadata": {
    "execution": {
     "iopub.execute_input": "2025-04-13T12:31:09.559454Z",
     "iopub.status.busy": "2025-04-13T12:31:09.559226Z",
     "iopub.status.idle": "2025-04-13T12:31:26.050531Z",
     "shell.execute_reply": "2025-04-13T12:31:26.049966Z"
    },
    "papermill": {
     "duration": 16.502923,
     "end_time": "2025-04-13T12:31:26.051602",
     "exception": false,
     "start_time": "2025-04-13T12:31:09.548679",
     "status": "completed"
    },
    "tags": []
   },
   "outputs": [
    {
     "name": "stdout",
     "output_type": "stream",
     "text": [
      "Epoch 1/5\n",
      "\u001b[1m57/57\u001b[0m \u001b[32m━━━━━━━━━━━━━━━━━━━━\u001b[0m\u001b[37m\u001b[0m \u001b[1m3s\u001b[0m 24ms/step - accuracy: 0.5186 - loss: 1.5139 - val_accuracy: 0.8400 - val_loss: 0.5019\n",
      "Epoch 2/5\n",
      "\u001b[1m57/57\u001b[0m \u001b[32m━━━━━━━━━━━━━━━━━━━━\u001b[0m\u001b[37m\u001b[0m \u001b[1m0s\u001b[0m 2ms/step - accuracy: 0.8793 - loss: 0.3835 - val_accuracy: 0.9100 - val_loss: 0.2531\n",
      "Epoch 3/5\n",
      "\u001b[1m57/57\u001b[0m \u001b[32m━━━━━━━━━━━━━━━━━━━━\u001b[0m\u001b[37m\u001b[0m \u001b[1m0s\u001b[0m 2ms/step - accuracy: 0.9413 - loss: 0.2279 - val_accuracy: 0.9150 - val_loss: 0.2291\n",
      "Epoch 4/5\n",
      "\u001b[1m57/57\u001b[0m \u001b[32m━━━━━━━━━━━━━━━━━━━━\u001b[0m\u001b[37m\u001b[0m \u001b[1m0s\u001b[0m 2ms/step - accuracy: 0.9585 - loss: 0.1419 - val_accuracy: 0.9750 - val_loss: 0.0904\n",
      "Epoch 5/5\n",
      "\u001b[1m57/57\u001b[0m \u001b[32m━━━━━━━━━━━━━━━━━━━━\u001b[0m\u001b[37m\u001b[0m \u001b[1m0s\u001b[0m 2ms/step - accuracy: 0.9909 - loss: 0.0575 - val_accuracy: 0.9900 - val_loss: 0.0579\n"
     ]
    },
    {
     "data": {
      "text/plain": [
       "<keras.src.callbacks.history.History at 0x7fca901db910>"
      ]
     },
     "execution_count": 8,
     "metadata": {},
     "output_type": "execute_result"
    }
   ],
   "source": [
    "x_adv_train = []\n",
    "y_adv_train = []\n",
    "\n",
    "for i in range(1000):\n",
    "    image = x_train[i]\n",
    "    label = y_train[i]\n",
    "    perturbation = create_adversarial_pattern(model, image, label)\n",
    "    adversarial_img = image + epsilon * perturbation[0]\n",
    "    adversarial_img = tf.clip_by_value(adversarial_img, 0.0, 1.0)\n",
    "    x_adv_train.append(adversarial_img)\n",
    "    y_adv_train.append(label)\n",
    "\n",
    "x_adv_train = np.array(x_adv_train)\n",
    "y_adv_train = np.array(y_adv_train)\n",
    "\n",
    "x_combined = np.concatenate([x_train[:1000], x_adv_train])\n",
    "y_combined = np.concatenate([y_train[:1000], y_adv_train])\n",
    "\n",
    "model_adv = create_model()\n",
    "model_adv.compile(optimizer='adam', loss=loss_fn, metrics=['accuracy'])\n",
    "model_adv.fit(x_combined, y_combined, epochs=5, validation_split=0.1)\n"
   ]
  },
  {
   "cell_type": "markdown",
   "id": "c966cb28",
   "metadata": {
    "papermill": {
     "duration": 0.010878,
     "end_time": "2025-04-13T12:31:26.074158",
     "exception": false,
     "start_time": "2025-04-13T12:31:26.063280",
     "status": "completed"
    },
    "tags": []
   },
   "source": [
    "**Evaluation sur images adversaires**"
   ]
  },
  {
   "cell_type": "code",
   "execution_count": 9,
   "id": "480314f7",
   "metadata": {
    "execution": {
     "iopub.execute_input": "2025-04-13T12:31:26.096707Z",
     "iopub.status.busy": "2025-04-13T12:31:26.096481Z",
     "iopub.status.idle": "2025-04-13T12:32:29.512517Z",
     "shell.execute_reply": "2025-04-13T12:32:29.511797Z"
    },
    "papermill": {
     "duration": 63.437966,
     "end_time": "2025-04-13T12:32:29.522966",
     "exception": false,
     "start_time": "2025-04-13T12:31:26.085000",
     "status": "completed"
    },
    "tags": []
   },
   "outputs": [
    {
     "name": "stdout",
     "output_type": "stream",
     "text": [
      "157/157 - 0s - 1ms/step - accuracy: 0.4334 - loss: 2.3067\n",
      "\n",
      "Adversarial test accuracy: 0.4334000051021576\n"
     ]
    }
   ],
   "source": [
    "x_test_adv = []\n",
    "for i in range(len(x_test)):\n",
    "    pert = create_adversarial_pattern(model_adv, x_test[i], y_test[i])\n",
    "    x_test_adv.append(tf.clip_by_value(x_test[i] + epsilon * pert[0], 0.0, 1.0))\n",
    "x_test_adv = np.array(x_test_adv)\n",
    "\n",
    "adv_loss, adv_acc = model_adv.evaluate(x_test_adv, y_test, verbose=2)\n",
    "print(\"\\nAdversarial test accuracy:\", adv_acc)"
   ]
  },
  {
   "cell_type": "markdown",
   "id": "d315f659",
   "metadata": {
    "papermill": {
     "duration": 0.05394,
     "end_time": "2025-04-13T12:32:29.588039",
     "exception": false,
     "start_time": "2025-04-13T12:32:29.534099",
     "status": "completed"
    },
    "tags": []
   },
   "source": [
    "# **Analyse et défense adversariale**\n",
    "\n",
    "# - *FGSM* : attaque rapide qui perturbe les pixels selon le gradient de perte\n",
    "# - *Adversarial Training* : consiste à inclure les données perturbées pendant l'entraînement\n",
    "\n",
    "# *Accuracy propre* : 0.9847  \n",
    "# *Accuracy avec attaques* : 0.4354  \n",
    "# \n",
    "# *Commentaires* : \n",
    "# - La robustesse augmente\n",
    "# - Mais l'entraînement est plus long\n"
   ]
  }
 ],
 "metadata": {
  "kaggle": {
   "accelerator": "gpu",
   "dataSources": [
    {
     "datasetId": 7101184,
     "sourceId": 11349085,
     "sourceType": "datasetVersion"
    }
   ],
   "dockerImageVersionId": 31011,
   "isGpuEnabled": true,
   "isInternetEnabled": true,
   "language": "python",
   "sourceType": "notebook"
  },
  "kernelspec": {
   "display_name": "Python 3",
   "language": "python",
   "name": "python3"
  },
  "language_info": {
   "codemirror_mode": {
    "name": "ipython",
    "version": 3
   },
   "file_extension": ".py",
   "mimetype": "text/x-python",
   "name": "python",
   "nbconvert_exporter": "python",
   "pygments_lexer": "ipython3",
   "version": "3.11.11"
  },
  "papermill": {
   "default_parameters": {},
   "duration": 123.217834,
   "end_time": "2025-04-13T12:32:32.903066",
   "environment_variables": {},
   "exception": null,
   "input_path": "__notebook__.ipynb",
   "output_path": "__notebook__.ipynb",
   "parameters": {},
   "start_time": "2025-04-13T12:30:29.685232",
   "version": "2.6.0"
  }
 },
 "nbformat": 4,
 "nbformat_minor": 5
}
