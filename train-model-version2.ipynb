{
 "cells": [
  {
   "cell_type": "code",
   "execution_count": 1,
   "id": "9362d2ae",
   "metadata": {
    "execution": {
     "iopub.execute_input": "2025-04-13T12:46:05.293283Z",
     "iopub.status.busy": "2025-04-13T12:46:05.293002Z",
     "iopub.status.idle": "2025-04-13T12:46:19.097258Z",
     "shell.execute_reply": "2025-04-13T12:46:19.096428Z"
    },
    "papermill": {
     "duration": 13.810038,
     "end_time": "2025-04-13T12:46:19.098840",
     "exception": false,
     "start_time": "2025-04-13T12:46:05.288802",
     "status": "completed"
    },
    "tags": []
   },
   "outputs": [
    {
     "name": "stderr",
     "output_type": "stream",
     "text": [
      "2025-04-13 12:46:08.258552: E external/local_xla/xla/stream_executor/cuda/cuda_fft.cc:477] Unable to register cuFFT factory: Attempting to register factory for plugin cuFFT when one has already been registered\n",
      "WARNING: All log messages before absl::InitializeLog() is called are written to STDERR\n",
      "E0000 00:00:1744548368.446695      19 cuda_dnn.cc:8310] Unable to register cuDNN factory: Attempting to register factory for plugin cuDNN when one has already been registered\n",
      "E0000 00:00:1744548368.500116      19 cuda_blas.cc:1418] Unable to register cuBLAS factory: Attempting to register factory for plugin cuBLAS when one has already been registered\n"
     ]
    }
   ],
   "source": [
    "import numpy as np\n",
    "import pandas as pd\n",
    "import tensorflow as tf\n",
    "import matplotlib.pyplot as plt\n"
   ]
  },
  {
   "cell_type": "markdown",
   "id": "3f770b0a",
   "metadata": {
    "papermill": {
     "duration": 0.002451,
     "end_time": "2025-04-13T12:46:19.104448",
     "exception": false,
     "start_time": "2025-04-13T12:46:19.101997",
     "status": "completed"
    },
    "tags": []
   },
   "source": [
    "**Chargement des données**"
   ]
  },
  {
   "cell_type": "code",
   "execution_count": 2,
   "id": "f7a373ac",
   "metadata": {
    "execution": {
     "iopub.execute_input": "2025-04-13T12:46:19.110867Z",
     "iopub.status.busy": "2025-04-13T12:46:19.110152Z",
     "iopub.status.idle": "2025-04-13T12:46:23.633288Z",
     "shell.execute_reply": "2025-04-13T12:46:23.632700Z"
    },
    "papermill": {
     "duration": 4.527623,
     "end_time": "2025-04-13T12:46:23.634679",
     "exception": false,
     "start_time": "2025-04-13T12:46:19.107056",
     "status": "completed"
    },
    "tags": []
   },
   "outputs": [],
   "source": [
    "train_df = pd.read_csv(\"/kaggle/input/training-model/train.csv\")\n",
    "test_df = pd.read_csv(\"/kaggle/input/training-model/test.csv\")\n",
    "\n",
    "x_train = train_df.drop(\"label\", axis=1).values.reshape(-1, 28, 28, 1) / 255.0\n",
    "y_train = train_df[\"label\"].values\n",
    "\n",
    "x_test = x_train[-5000:]\n",
    "y_test = y_train[-5000:]\n",
    "x_train = x_train[:-5000]\n",
    "y_train = y_train[:-5000]"
   ]
  },
  {
   "cell_type": "markdown",
   "id": "36e6b251",
   "metadata": {
    "papermill": {
     "duration": 0.002431,
     "end_time": "2025-04-13T12:46:23.640106",
     "exception": false,
     "start_time": "2025-04-13T12:46:23.637675",
     "status": "completed"
    },
    "tags": []
   },
   "source": [
    "**Création du modèle (CNN)**"
   ]
  },
  {
   "cell_type": "code",
   "execution_count": 3,
   "id": "fb9a819a",
   "metadata": {
    "execution": {
     "iopub.execute_input": "2025-04-13T12:46:23.647143Z",
     "iopub.status.busy": "2025-04-13T12:46:23.646931Z",
     "iopub.status.idle": "2025-04-13T12:46:25.823516Z",
     "shell.execute_reply": "2025-04-13T12:46:25.822727Z"
    },
    "papermill": {
     "duration": 2.181112,
     "end_time": "2025-04-13T12:46:25.824922",
     "exception": false,
     "start_time": "2025-04-13T12:46:23.643810",
     "status": "completed"
    },
    "tags": []
   },
   "outputs": [
    {
     "name": "stderr",
     "output_type": "stream",
     "text": [
      "/usr/local/lib/python3.11/dist-packages/keras/src/layers/convolutional/base_conv.py:107: UserWarning: Do not pass an `input_shape`/`input_dim` argument to a layer. When using Sequential models, prefer using an `Input(shape)` object as the first layer in the model instead.\n",
      "  super().__init__(activity_regularizer=activity_regularizer, **kwargs)\n",
      "I0000 00:00:1744548384.641590      19 gpu_device.cc:2022] Created device /job:localhost/replica:0/task:0/device:GPU:0 with 15513 MB memory:  -> device: 0, name: Tesla P100-PCIE-16GB, pci bus id: 0000:00:04.0, compute capability: 6.0\n"
     ]
    }
   ],
   "source": [
    "def create_model():\n",
    "    model = tf.keras.Sequential([\n",
    "        tf.keras.layers.Conv2D(32, (3,3), activation='relu', input_shape=(28,28,1)),\n",
    "        tf.keras.layers.MaxPooling2D(),\n",
    "        tf.keras.layers.Flatten(),\n",
    "        tf.keras.layers.Dense(100, activation='relu'),\n",
    "        tf.keras.layers.Dense(10)\n",
    "    ])\n",
    "    return model\n",
    "\n",
    "model = create_model()\n",
    "loss_fn = tf.keras.losses.SparseCategoricalCrossentropy(from_logits=True)\n",
    "model.compile(optimizer='adam', loss=loss_fn, metrics=['accuracy'])\n"
   ]
  },
  {
   "cell_type": "markdown",
   "id": "5a5115ea",
   "metadata": {
    "papermill": {
     "duration": 0.002434,
     "end_time": "2025-04-13T12:46:25.830251",
     "exception": false,
     "start_time": "2025-04-13T12:46:25.827817",
     "status": "completed"
    },
    "tags": []
   },
   "source": [
    "**Entraînement initial**"
   ]
  },
  {
   "cell_type": "code",
   "execution_count": 4,
   "id": "45969188",
   "metadata": {
    "execution": {
     "iopub.execute_input": "2025-04-13T12:46:25.836322Z",
     "iopub.status.busy": "2025-04-13T12:46:25.835847Z",
     "iopub.status.idle": "2025-04-13T12:46:38.895579Z",
     "shell.execute_reply": "2025-04-13T12:46:38.894924Z"
    },
    "papermill": {
     "duration": 13.063934,
     "end_time": "2025-04-13T12:46:38.896758",
     "exception": false,
     "start_time": "2025-04-13T12:46:25.832824",
     "status": "completed"
    },
    "tags": []
   },
   "outputs": [
    {
     "name": "stdout",
     "output_type": "stream",
     "text": [
      "Epoch 1/5\n"
     ]
    },
    {
     "name": "stderr",
     "output_type": "stream",
     "text": [
      "WARNING: All log messages before absl::InitializeLog() is called are written to STDERR\n",
      "I0000 00:00:1744548387.507863      60 service.cc:148] XLA service 0x7840600092a0 initialized for platform CUDA (this does not guarantee that XLA will be used). Devices:\n",
      "I0000 00:00:1744548387.508337      60 service.cc:156]   StreamExecutor device (0): Tesla P100-PCIE-16GB, Compute Capability 6.0\n",
      "I0000 00:00:1744548387.684590      60 cuda_dnn.cc:529] Loaded cuDNN version 90300\n"
     ]
    },
    {
     "name": "stdout",
     "output_type": "stream",
     "text": [
      "\u001b[1m 102/1041\u001b[0m \u001b[32m━\u001b[0m\u001b[37m━━━━━━━━━━━━━━━━━━━\u001b[0m \u001b[1m1s\u001b[0m 2ms/step - accuracy: 0.6501 - loss: 1.1792"
     ]
    },
    {
     "name": "stderr",
     "output_type": "stream",
     "text": [
      "I0000 00:00:1744548388.941715      60 device_compiler.h:188] Compiled cluster using XLA!  This line is logged at most once for the lifetime of the process.\n"
     ]
    },
    {
     "name": "stdout",
     "output_type": "stream",
     "text": [
      "\u001b[1m1041/1041\u001b[0m \u001b[32m━━━━━━━━━━━━━━━━━━━━\u001b[0m\u001b[37m\u001b[0m \u001b[1m6s\u001b[0m 3ms/step - accuracy: 0.8768 - loss: 0.4162 - val_accuracy: 0.9757 - val_loss: 0.0786\n",
      "Epoch 2/5\n",
      "\u001b[1m1041/1041\u001b[0m \u001b[32m━━━━━━━━━━━━━━━━━━━━\u001b[0m\u001b[37m\u001b[0m \u001b[1m2s\u001b[0m 2ms/step - accuracy: 0.9807 - loss: 0.0661 - val_accuracy: 0.9789 - val_loss: 0.0706\n",
      "Epoch 3/5\n",
      "\u001b[1m1041/1041\u001b[0m \u001b[32m━━━━━━━━━━━━━━━━━━━━\u001b[0m\u001b[37m\u001b[0m \u001b[1m2s\u001b[0m 2ms/step - accuracy: 0.9884 - loss: 0.0392 - val_accuracy: 0.9784 - val_loss: 0.0652\n",
      "Epoch 4/5\n",
      "\u001b[1m1041/1041\u001b[0m \u001b[32m━━━━━━━━━━━━━━━━━━━━\u001b[0m\u001b[37m\u001b[0m \u001b[1m2s\u001b[0m 2ms/step - accuracy: 0.9922 - loss: 0.0256 - val_accuracy: 0.9835 - val_loss: 0.0529\n",
      "Epoch 5/5\n",
      "\u001b[1m1041/1041\u001b[0m \u001b[32m━━━━━━━━━━━━━━━━━━━━\u001b[0m\u001b[37m\u001b[0m \u001b[1m2s\u001b[0m 2ms/step - accuracy: 0.9946 - loss: 0.0176 - val_accuracy: 0.9819 - val_loss: 0.0635\n"
     ]
    },
    {
     "data": {
      "text/plain": [
       "<keras.src.callbacks.history.History at 0x784160b176d0>"
      ]
     },
     "execution_count": 4,
     "metadata": {},
     "output_type": "execute_result"
    }
   ],
   "source": [
    "model.fit(x_train, y_train, epochs=5, validation_split=0.1)"
   ]
  },
  {
   "cell_type": "markdown",
   "id": "4131228b",
   "metadata": {
    "papermill": {
     "duration": 0.009127,
     "end_time": "2025-04-13T12:46:38.916227",
     "exception": false,
     "start_time": "2025-04-13T12:46:38.907100",
     "status": "completed"
    },
    "tags": []
   },
   "source": [
    "**On affiche l'évaluation propre**"
   ]
  },
  {
   "cell_type": "code",
   "execution_count": 5,
   "id": "32a8be68",
   "metadata": {
    "execution": {
     "iopub.execute_input": "2025-04-13T12:46:38.935433Z",
     "iopub.status.busy": "2025-04-13T12:46:38.934790Z",
     "iopub.status.idle": "2025-04-13T12:46:39.505783Z",
     "shell.execute_reply": "2025-04-13T12:46:39.505098Z"
    },
    "papermill": {
     "duration": 0.581653,
     "end_time": "2025-04-13T12:46:39.506809",
     "exception": false,
     "start_time": "2025-04-13T12:46:38.925156",
     "status": "completed"
    },
    "tags": []
   },
   "outputs": [
    {
     "name": "stdout",
     "output_type": "stream",
     "text": [
      "157/157 - 0s - 3ms/step - accuracy: 0.9830 - loss: 0.0591\n",
      "\n",
      "Clean test accuracy: 0.9829999804496765\n"
     ]
    }
   ],
   "source": [
    "clean_loss, clean_acc = model.evaluate(x_test, y_test, verbose=2)\n",
    "print(\"\\nClean test accuracy:\", clean_acc)"
   ]
  },
  {
   "cell_type": "markdown",
   "id": "24809f25",
   "metadata": {
    "papermill": {
     "duration": 0.009118,
     "end_time": "2025-04-13T12:46:39.525418",
     "exception": false,
     "start_time": "2025-04-13T12:46:39.516300",
     "status": "completed"
    },
    "tags": []
   },
   "source": [
    "**FGSM pour les exemples adversariales**"
   ]
  },
  {
   "cell_type": "code",
   "execution_count": 6,
   "id": "1e77ae8a",
   "metadata": {
    "execution": {
     "iopub.execute_input": "2025-04-13T12:46:39.544103Z",
     "iopub.status.busy": "2025-04-13T12:46:39.543900Z",
     "iopub.status.idle": "2025-04-13T12:46:40.827227Z",
     "shell.execute_reply": "2025-04-13T12:46:40.826638Z"
    },
    "papermill": {
     "duration": 1.294157,
     "end_time": "2025-04-13T12:46:40.828514",
     "exception": false,
     "start_time": "2025-04-13T12:46:39.534357",
     "status": "completed"
    },
    "tags": []
   },
   "outputs": [],
   "source": [
    "def create_adversarial_pattern(model, image, label):\n",
    "    image = tf.convert_to_tensor(image[None, ...])\n",
    "    label = tf.convert_to_tensor(label[None])\n",
    "    \n",
    "    with tf.GradientTape() as tape:\n",
    "        tape.watch(image)\n",
    "        prediction = model(image)\n",
    "        loss = loss_fn(label, prediction)\n",
    "\n",
    "    gradient = tape.gradient(loss, image)\n",
    "    signed_grad = tf.sign(gradient)\n",
    "    return signed_grad\n",
    "\n",
    "epsilon = 0.01\n",
    "adversarial_examples = []\n",
    "for i in range(10):\n",
    "    image = x_test[i]\n",
    "    label = y_test[i]\n",
    "    perturbation = create_adversarial_pattern(model, image, label)\n",
    "    adversarial_img = image + epsilon * perturbation[0]\n",
    "    adversarial_img = tf.clip_by_value(adversarial_img, 0.0, 1.0)\n",
    "    adversarial_examples.append((image, adversarial_img.numpy(), label))"
   ]
  },
  {
   "cell_type": "markdown",
   "id": "7ae9a63c",
   "metadata": {
    "papermill": {
     "duration": 0.009001,
     "end_time": "2025-04-13T12:46:40.847046",
     "exception": false,
     "start_time": "2025-04-13T12:46:40.838045",
     "status": "completed"
    },
    "tags": []
   },
   "source": [
    "**On doit visualiser à présent**"
   ]
  },
  {
   "cell_type": "code",
   "execution_count": 7,
   "id": "1dbe3962",
   "metadata": {
    "execution": {
     "iopub.execute_input": "2025-04-13T12:46:40.866072Z",
     "iopub.status.busy": "2025-04-13T12:46:40.865649Z",
     "iopub.status.idle": "2025-04-13T12:46:41.734278Z",
     "shell.execute_reply": "2025-04-13T12:46:41.733586Z"
    },
    "papermill": {
     "duration": 0.880175,
     "end_time": "2025-04-13T12:46:41.736171",
     "exception": false,
     "start_time": "2025-04-13T12:46:40.855996",
     "status": "completed"
    },
    "tags": []
   },
   "outputs": [
    {
     "data": {
      "image/png": "[encoded data removed]",
      "text/plain": [
       "<Figure size 1000x400 with 20 Axes>"
      ]
     },
     "metadata": {},
     "output_type": "display_data"
    }
   ],
   "source": [
    "plt.figure(figsize=(10, 4))\n",
    "for i, (orig, adv, label) in enumerate(adversarial_examples):\n",
    "    plt.subplot(2, 10, i+1)\n",
    "    plt.imshow(orig.squeeze(), cmap='gray')\n",
    "    plt.title(f\"Label: {label}\")\n",
    "    plt.axis('off')\n",
    "\n",
    "    plt.subplot(2, 10, i+11)\n",
    "    plt.imshow(adv.squeeze(), cmap='gray')\n",
    "    plt.title(\"Adv\")\n",
    "    plt.axis('off')\n",
    "plt.tight_layout()\n",
    "plt.show()"
   ]
  },
  {
   "cell_type": "markdown",
   "id": "5141b7d0",
   "metadata": {
    "papermill": {
     "duration": 0.01008,
     "end_time": "2025-04-13T12:46:41.757057",
     "exception": false,
     "start_time": "2025-04-13T12:46:41.746977",
     "status": "completed"
    },
    "tags": []
   },
   "source": [
    "**Entraînement sur les exemples adversaires**"
   ]
  },
  {
   "cell_type": "code",
   "execution_count": 8,
   "id": "57d244bd",
   "metadata": {
    "execution": {
     "iopub.execute_input": "2025-04-13T12:46:41.778779Z",
     "iopub.status.busy": "2025-04-13T12:46:41.778544Z",
     "iopub.status.idle": "2025-04-13T12:46:58.299345Z",
     "shell.execute_reply": "2025-04-13T12:46:58.298704Z"
    },
    "papermill": {
     "duration": 16.533017,
     "end_time": "2025-04-13T12:46:58.300426",
     "exception": false,
     "start_time": "2025-04-13T12:46:41.767409",
     "status": "completed"
    },
    "tags": []
   },
   "outputs": [
    {
     "name": "stdout",
     "output_type": "stream",
     "text": [
      "Epoch 1/5\n",
      "\u001b[1m57/57\u001b[0m \u001b[32m━━━━━━━━━━━━━━━━━━━━\u001b[0m\u001b[37m\u001b[0m \u001b[1m3s\u001b[0m 24ms/step - accuracy: 0.5503 - loss: 1.4765 - val_accuracy: 0.8650 - val_loss: 0.4089\n",
      "Epoch 2/5\n",
      "\u001b[1m57/57\u001b[0m \u001b[32m━━━━━━━━━━━━━━━━━━━━\u001b[0m\u001b[37m\u001b[0m \u001b[1m0s\u001b[0m 2ms/step - accuracy: 0.9108 - loss: 0.3201 - val_accuracy: 0.9350 - val_loss: 0.2361\n",
      "Epoch 3/5\n",
      "\u001b[1m57/57\u001b[0m \u001b[32m━━━━━━━━━━━━━━━━━━━━\u001b[0m\u001b[37m\u001b[0m \u001b[1m0s\u001b[0m 2ms/step - accuracy: 0.9574 - loss: 0.1463 - val_accuracy: 0.9650 - val_loss: 0.1358\n",
      "Epoch 4/5\n",
      "\u001b[1m57/57\u001b[0m \u001b[32m━━━━━━━━━━━━━━━━━━━━\u001b[0m\u001b[37m\u001b[0m \u001b[1m0s\u001b[0m 2ms/step - accuracy: 0.9748 - loss: 0.1015 - val_accuracy: 0.9850 - val_loss: 0.0758\n",
      "Epoch 5/5\n",
      "\u001b[1m57/57\u001b[0m \u001b[32m━━━━━━━━━━━━━━━━━━━━\u001b[0m\u001b[37m\u001b[0m \u001b[1m0s\u001b[0m 2ms/step - accuracy: 0.9937 - loss: 0.0512 - val_accuracy: 0.9950 - val_loss: 0.0533\n"
     ]
    },
    {
     "data": {
      "text/plain": [
       "<keras.src.callbacks.history.History at 0x7841240a1750>"
      ]
     },
     "execution_count": 8,
     "metadata": {},
     "output_type": "execute_result"
    }
   ],
   "source": [
    "x_adv_train = []\n",
    "y_adv_train = []\n",
    "\n",
    "for i in range(1000):\n",
    "    image = x_train[i]\n",
    "    label = y_train[i]\n",
    "    perturbation = create_adversarial_pattern(model, image, label)\n",
    "    adversarial_img = image + epsilon * perturbation[0]\n",
    "    adversarial_img = tf.clip_by_value(adversarial_img, 0.0, 1.0)\n",
    "    x_adv_train.append(adversarial_img)\n",
    "    y_adv_train.append(label)\n",
    "\n",
    "x_adv_train = np.array(x_adv_train)\n",
    "y_adv_train = np.array(y_adv_train)\n",
    "\n",
    "x_combined = np.concatenate([x_train[:1000], x_adv_train])\n",
    "y_combined = np.concatenate([y_train[:1000], y_adv_train])\n",
    "\n",
    "model_adv = create_model()\n",
    "model_adv.compile(optimizer='adam', loss=loss_fn, metrics=['accuracy'])\n",
    "model_adv.fit(x_combined, y_combined, epochs=5, validation_split=0.1)\n"
   ]
  },
  {
   "cell_type": "markdown",
   "id": "0901b2b5",
   "metadata": {
    "papermill": {
     "duration": 0.010933,
     "end_time": "2025-04-13T12:46:58.322768",
     "exception": false,
     "start_time": "2025-04-13T12:46:58.311835",
     "status": "completed"
    },
    "tags": []
   },
   "source": [
    "**Evaluation sur images adversaires**"
   ]
  },
  {
   "cell_type": "code",
   "execution_count": 9,
   "id": "a76e568a",
   "metadata": {
    "execution": {
     "iopub.execute_input": "2025-04-13T12:46:58.345897Z",
     "iopub.status.busy": "2025-04-13T12:46:58.345646Z",
     "iopub.status.idle": "2025-04-13T12:48:02.287461Z",
     "shell.execute_reply": "2025-04-13T12:48:02.286737Z"
    },
    "papermill": {
     "duration": 63.964633,
     "end_time": "2025-04-13T12:48:02.298546",
     "exception": false,
     "start_time": "2025-04-13T12:46:58.333913",
     "status": "completed"
    },
    "tags": []
   },
   "outputs": [
    {
     "name": "stdout",
     "output_type": "stream",
     "text": [
      "157/157 - 0s - 1ms/step - accuracy: 0.8922 - loss: 0.3775\n",
      "\n",
      "Adversarial test accuracy: 0.8921999931335449\n"
     ]
    }
   ],
   "source": [
    "x_test_adv = []\n",
    "for i in range(len(x_test)):\n",
    "    pert = create_adversarial_pattern(model_adv, x_test[i], y_test[i])\n",
    "    x_test_adv.append(tf.clip_by_value(x_test[i] + epsilon * pert[0], 0.0, 1.0))\n",
    "x_test_adv = np.array(x_test_adv)\n",
    "\n",
    "adv_loss, adv_acc = model_adv.evaluate(x_test_adv, y_test, verbose=2)\n",
    "print(\"\\nAdversarial test accuracy:\", adv_acc)"
   ]
  },
  {
   "cell_type": "markdown",
   "id": "98fb9034",
   "metadata": {
    "papermill": {
     "duration": 0.057204,
     "end_time": "2025-04-13T12:48:02.366869",
     "exception": false,
     "start_time": "2025-04-13T12:48:02.309665",
     "status": "completed"
    },
    "tags": []
   },
   "source": [
    "# **Analyse et défense adversariale**\n",
    "\n",
    "# - *FGSM* : attaque rapide qui perturbe les pixels selon le gradient de perte\n",
    "# - *Adversarial Training* : consiste à inclure les données perturbées pendant l'entraînement\n",
    "\n",
    "# *Accuracy propre* : 0.9847  \n",
    "# *Accuracy avec attaques* : 0.8993  \n",
    "# \n",
    "# *Commentaires* : \n",
    "# - La robustesse augmente contrairement à la première version, car on a diminué la valeur d'epsilone pour avoir moins de perturbation\n",
    "# - Mais l'entraînement est plus long\n"
   ]
  }
 ],
 "metadata": {
  "kaggle": {
   "accelerator": "gpu",
   "dataSources": [
    {
     "datasetId": 7101184,
     "sourceId": 11349085,
     "sourceType": "datasetVersion"
    }
   ],
   "dockerImageVersionId": 31011,
   "isGpuEnabled": true,
   "isInternetEnabled": true,
   "language": "python",
   "sourceType": "notebook"
  },
  "kernelspec": {
   "display_name": "Python 3",
   "language": "python",
   "name": "python3"
  },
  "language_info": {
   "codemirror_mode": {
    "name": "ipython",
    "version": 3
   },
   "file_extension": ".py",
   "mimetype": "text/x-python",
   "name": "python",
   "nbconvert_exporter": "python",
   "pygments_lexer": "ipython3",
   "version": "3.11.11"
  },
  "papermill": {
   "default_parameters": {},
   "duration": 124.231374,
   "end_time": "2025-04-13T12:48:05.556627",
   "environment_variables": {},
   "exception": null,
   "input_path": "__notebook__.ipynb",
   "output_path": "__notebook__.ipynb",
   "parameters": {},
   "start_time": "2025-04-13T12:46:01.325253",
   "version": "2.6.0"
  }
 },
 "nbformat": 4,
 "nbformat_minor": 5
}
