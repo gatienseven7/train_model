{
 "cells": [
  {
   "cell_type": "code",
   "execution_count": 1,
   "id": "51890fcb",
   "metadata": {
    "execution": {
     "iopub.execute_input": "2025-04-13T12:44:21.123539Z",
     "iopub.status.busy": "2025-04-13T12:44:21.123234Z",
     "iopub.status.idle": "2025-04-13T12:44:35.570811Z",
     "shell.execute_reply": "2025-04-13T12:44:35.569994Z"
    },
    "papermill": {
     "duration": 14.4534,
     "end_time": "2025-04-13T12:44:35.572263",
     "exception": false,
     "start_time": "2025-04-13T12:44:21.118863",
     "status": "completed"
    },
    "tags": []
   },
   "outputs": [
    {
     "name": "stderr",
     "output_type": "stream",
     "text": [
      "2025-04-13 12:44:24.076946: E external/local_xla/xla/stream_executor/cuda/cuda_fft.cc:477] Unable to register cuFFT factory: Attempting to register factory for plugin cuFFT when one has already been registered\n",
      "WARNING: All log messages before absl::InitializeLog() is called are written to STDERR\n",
      "E0000 00:00:1744548264.279859      19 cuda_dnn.cc:8310] Unable to register cuDNN factory: Attempting to register factory for plugin cuDNN when one has already been registered\n",
      "E0000 00:00:1744548264.335150      19 cuda_blas.cc:1418] Unable to register cuBLAS factory: Attempting to register factory for plugin cuBLAS when one has already been registered\n"
     ]
    }
   ],
   "source": [
    "import numpy as np\n",
    "import pandas as pd\n",
    "import tensorflow as tf\n",
    "import matplotlib.pyplot as plt\n"
   ]
  },
  {
   "cell_type": "markdown",
   "id": "ac669803",
   "metadata": {
    "papermill": {
     "duration": 0.002363,
     "end_time": "2025-04-13T12:44:35.577739",
     "exception": false,
     "start_time": "2025-04-13T12:44:35.575376",
     "status": "completed"
    },
    "tags": []
   },
   "source": [
    "**Chargement des données**"
   ]
  },
  {
   "cell_type": "code",
   "execution_count": 2,
   "id": "dd85281c",
   "metadata": {
    "execution": {
     "iopub.execute_input": "2025-04-13T12:44:35.584461Z",
     "iopub.status.busy": "2025-04-13T12:44:35.583595Z",
     "iopub.status.idle": "2025-04-13T12:44:40.483183Z",
     "shell.execute_reply": "2025-04-13T12:44:40.482391Z"
    },
    "papermill": {
     "duration": 4.904448,
     "end_time": "2025-04-13T12:44:40.484760",
     "exception": false,
     "start_time": "2025-04-13T12:44:35.580312",
     "status": "completed"
    },
    "tags": []
   },
   "outputs": [],
   "source": [
    "train_df = pd.read_csv(\"/kaggle/input/training-model/train.csv\")\n",
    "test_df = pd.read_csv(\"/kaggle/input/training-model/test.csv\")\n",
    "\n",
    "x_train = train_df.drop(\"label\", axis=1).values.reshape(-1, 28, 28, 1) / 255.0\n",
    "y_train = train_df[\"label\"].values\n",
    "\n",
    "x_test = x_train[-5000:]\n",
    "y_test = y_train[-5000:]\n",
    "x_train = x_train[:-5000]\n",
    "y_train = y_train[:-5000]"
   ]
  },
  {
   "cell_type": "markdown",
   "id": "1251323b",
   "metadata": {
    "papermill": {
     "duration": 0.002385,
     "end_time": "2025-04-13T12:44:40.490076",
     "exception": false,
     "start_time": "2025-04-13T12:44:40.487691",
     "status": "completed"
    },
    "tags": []
   },
   "source": [
    "**Création du modèle (CNN)**"
   ]
  },
  {
   "cell_type": "code",
   "execution_count": 3,
   "id": "a6fb5d92",
   "metadata": {
    "execution": {
     "iopub.execute_input": "2025-04-13T12:44:40.497109Z",
     "iopub.status.busy": "2025-04-13T12:44:40.496877Z",
     "iopub.status.idle": "2025-04-13T12:44:42.930836Z",
     "shell.execute_reply": "2025-04-13T12:44:42.929932Z"
    },
    "papermill": {
     "duration": 2.438551,
     "end_time": "2025-04-13T12:44:42.932208",
     "exception": false,
     "start_time": "2025-04-13T12:44:40.493657",
     "status": "completed"
    },
    "tags": []
   },
   "outputs": [
    {
     "name": "stderr",
     "output_type": "stream",
     "text": [
      "/usr/local/lib/python3.11/dist-packages/keras/src/layers/convolutional/base_conv.py:107: UserWarning: Do not pass an `input_shape`/`input_dim` argument to a layer. When using Sequential models, prefer using an `Input(shape)` object as the first layer in the model instead.\n",
      "  super().__init__(activity_regularizer=activity_regularizer, **kwargs)\n",
      "I0000 00:00:1744548281.664875      19 gpu_device.cc:2022] Created device /job:localhost/replica:0/task:0/device:GPU:0 with 15513 MB memory:  -> device: 0, name: Tesla P100-PCIE-16GB, pci bus id: 0000:00:04.0, compute capability: 6.0\n"
     ]
    }
   ],
   "source": [
    "def create_model():\n",
    "    model = tf.keras.Sequential([\n",
    "        tf.keras.layers.Conv2D(32, (3,3), activation='relu', input_shape=(28,28,1)),\n",
    "        tf.keras.layers.MaxPooling2D(),\n",
    "        tf.keras.layers.Flatten(),\n",
    "        tf.keras.layers.Dense(100, activation='relu'),\n",
    "        tf.keras.layers.Dense(10)\n",
    "    ])\n",
    "    return model\n",
    "\n",
    "model = create_model()\n",
    "loss_fn = tf.keras.losses.SparseCategoricalCrossentropy(from_logits=True)\n",
    "model.compile(optimizer='adam', loss=loss_fn, metrics=['accuracy'])\n"
   ]
  },
  {
   "cell_type": "markdown",
   "id": "805dab64",
   "metadata": {
    "papermill": {
     "duration": 0.002552,
     "end_time": "2025-04-13T12:44:42.937756",
     "exception": false,
     "start_time": "2025-04-13T12:44:42.935204",
     "status": "completed"
    },
    "tags": []
   },
   "source": [
    "**Entraînement initial**"
   ]
  },
  {
   "cell_type": "code",
   "execution_count": 4,
   "id": "398bf752",
   "metadata": {
    "execution": {
     "iopub.execute_input": "2025-04-13T12:44:42.943867Z",
     "iopub.status.busy": "2025-04-13T12:44:42.943622Z",
     "iopub.status.idle": "2025-04-13T12:44:56.335065Z",
     "shell.execute_reply": "2025-04-13T12:44:56.334415Z"
    },
    "papermill": {
     "duration": 13.395874,
     "end_time": "2025-04-13T12:44:56.336261",
     "exception": false,
     "start_time": "2025-04-13T12:44:42.940387",
     "status": "completed"
    },
    "tags": []
   },
   "outputs": [
    {
     "name": "stdout",
     "output_type": "stream",
     "text": [
      "Epoch 1/5\n"
     ]
    },
    {
     "name": "stderr",
     "output_type": "stream",
     "text": [
      "WARNING: All log messages before absl::InitializeLog() is called are written to STDERR\n",
      "I0000 00:00:1744548284.600465      57 service.cc:148] XLA service 0x7a92e4005180 initialized for platform CUDA (this does not guarantee that XLA will be used). Devices:\n",
      "I0000 00:00:1744548284.600935      57 service.cc:156]   StreamExecutor device (0): Tesla P100-PCIE-16GB, Compute Capability 6.0\n",
      "I0000 00:00:1744548284.782320      57 cuda_dnn.cc:529] Loaded cuDNN version 90300\n"
     ]
    },
    {
     "name": "stdout",
     "output_type": "stream",
     "text": [
      "\u001b[1m  99/1041\u001b[0m \u001b[32m━\u001b[0m\u001b[37m━━━━━━━━━━━━━━━━━━━\u001b[0m \u001b[1m1s\u001b[0m 2ms/step - accuracy: 0.6980 - loss: 1.1445"
     ]
    },
    {
     "name": "stderr",
     "output_type": "stream",
     "text": [
      "I0000 00:00:1744548286.097636      57 device_compiler.h:188] Compiled cluster using XLA!  This line is logged at most once for the lifetime of the process.\n"
     ]
    },
    {
     "name": "stdout",
     "output_type": "stream",
     "text": [
      "\u001b[1m1041/1041\u001b[0m \u001b[32m━━━━━━━━━━━━━━━━━━━━\u001b[0m\u001b[37m\u001b[0m \u001b[1m6s\u001b[0m 3ms/step - accuracy: 0.8840 - loss: 0.4103 - val_accuracy: 0.9743 - val_loss: 0.0904\n",
      "Epoch 2/5\n",
      "\u001b[1m1041/1041\u001b[0m \u001b[32m━━━━━━━━━━━━━━━━━━━━\u001b[0m\u001b[37m\u001b[0m \u001b[1m2s\u001b[0m 2ms/step - accuracy: 0.9787 - loss: 0.0737 - val_accuracy: 0.9765 - val_loss: 0.0736\n",
      "Epoch 3/5\n",
      "\u001b[1m1041/1041\u001b[0m \u001b[32m━━━━━━━━━━━━━━━━━━━━\u001b[0m\u001b[37m\u001b[0m \u001b[1m2s\u001b[0m 2ms/step - accuracy: 0.9869 - loss: 0.0435 - val_accuracy: 0.9765 - val_loss: 0.0754\n",
      "Epoch 4/5\n",
      "\u001b[1m1041/1041\u001b[0m \u001b[32m━━━━━━━━━━━━━━━━━━━━\u001b[0m\u001b[37m\u001b[0m \u001b[1m2s\u001b[0m 2ms/step - accuracy: 0.9914 - loss: 0.0291 - val_accuracy: 0.9827 - val_loss: 0.0562\n",
      "Epoch 5/5\n",
      "\u001b[1m1041/1041\u001b[0m \u001b[32m━━━━━━━━━━━━━━━━━━━━\u001b[0m\u001b[37m\u001b[0m \u001b[1m2s\u001b[0m 2ms/step - accuracy: 0.9945 - loss: 0.0192 - val_accuracy: 0.9814 - val_loss: 0.0651\n"
     ]
    },
    {
     "data": {
      "text/plain": [
       "<keras.src.callbacks.history.History at 0x7a93d108fa90>"
      ]
     },
     "execution_count": 4,
     "metadata": {},
     "output_type": "execute_result"
    }
   ],
   "source": [
    "model.fit(x_train, y_train, epochs=5, validation_split=0.1)"
   ]
  },
  {
   "cell_type": "markdown",
   "id": "3655b2a7",
   "metadata": {
    "papermill": {
     "duration": 0.009351,
     "end_time": "2025-04-13T12:44:56.356029",
     "exception": false,
     "start_time": "2025-04-13T12:44:56.346678",
     "status": "completed"
    },
    "tags": []
   },
   "source": [
    "**On affiche l'évaluation propre**"
   ]
  },
  {
   "cell_type": "code",
   "execution_count": 5,
   "id": "9d657aff",
   "metadata": {
    "execution": {
     "iopub.execute_input": "2025-04-13T12:44:56.376555Z",
     "iopub.status.busy": "2025-04-13T12:44:56.375770Z",
     "iopub.status.idle": "2025-04-13T12:44:56.962767Z",
     "shell.execute_reply": "2025-04-13T12:44:56.962026Z"
    },
    "papermill": {
     "duration": 0.598341,
     "end_time": "2025-04-13T12:44:56.963904",
     "exception": false,
     "start_time": "2025-04-13T12:44:56.365563",
     "status": "completed"
    },
    "tags": []
   },
   "outputs": [
    {
     "name": "stdout",
     "output_type": "stream",
     "text": [
      "157/157 - 1s - 3ms/step - accuracy: 0.9824 - loss: 0.0598\n",
      "\n",
      "Clean test accuracy: 0.9824000000953674\n"
     ]
    }
   ],
   "source": [
    "clean_loss, clean_acc = model.evaluate(x_test, y_test, verbose=2)\n",
    "print(\"\\nClean test accuracy:\", clean_acc)"
   ]
  },
  {
   "cell_type": "markdown",
   "id": "b8f3585b",
   "metadata": {
    "papermill": {
     "duration": 0.009496,
     "end_time": "2025-04-13T12:44:56.984664",
     "exception": false,
     "start_time": "2025-04-13T12:44:56.975168",
     "status": "completed"
    },
    "tags": []
   },
   "source": [
    "**FGSM pour les exemples adversariales**"
   ]
  },
  {
   "cell_type": "code",
   "execution_count": 6,
   "id": "392e0b29",
   "metadata": {
    "execution": {
     "iopub.execute_input": "2025-04-13T12:44:57.005124Z",
     "iopub.status.busy": "2025-04-13T12:44:57.004544Z",
     "iopub.status.idle": "2025-04-13T12:44:58.315076Z",
     "shell.execute_reply": "2025-04-13T12:44:58.314383Z"
    },
    "papermill": {
     "duration": 1.322419,
     "end_time": "2025-04-13T12:44:58.316520",
     "exception": false,
     "start_time": "2025-04-13T12:44:56.994101",
     "status": "completed"
    },
    "tags": []
   },
   "outputs": [],
   "source": [
    "def create_adversarial_pattern(model, image, label):\n",
    "    image = tf.convert_to_tensor(image[None, ...])\n",
    "    label = tf.convert_to_tensor(label[None])\n",
    "    \n",
    "    with tf.GradientTape() as tape:\n",
    "        tape.watch(image)\n",
    "        prediction = model(image)\n",
    "        loss = loss_fn(label, prediction)\n",
    "\n",
    "    gradient = tape.gradient(loss, image)\n",
    "    signed_grad = tf.sign(gradient)\n",
    "    return signed_grad\n",
    "\n",
    "epsilon = 0.01\n",
    "adversarial_examples = []\n",
    "for i in range(10):\n",
    "    image = x_test[i]\n",
    "    label = y_test[i]\n",
    "    perturbation = create_adversarial_pattern(model, image, label)\n",
    "    adversarial_img = image + epsilon * perturbation[0]\n",
    "    adversarial_img = tf.clip_by_value(adversarial_img, 0.0, 1.0)\n",
    "    adversarial_examples.append((image, adversarial_img.numpy(), label))"
   ]
  },
  {
   "cell_type": "markdown",
   "id": "a7f7c68f",
   "metadata": {
    "papermill": {
     "duration": 0.009291,
     "end_time": "2025-04-13T12:44:58.335640",
     "exception": false,
     "start_time": "2025-04-13T12:44:58.326349",
     "status": "completed"
    },
    "tags": []
   },
   "source": [
    "**On doit visualiser à présent**"
   ]
  },
  {
   "cell_type": "code",
   "execution_count": 7,
   "id": "59d0126b",
   "metadata": {
    "execution": {
     "iopub.execute_input": "2025-04-13T12:44:58.356218Z",
     "iopub.status.busy": "2025-04-13T12:44:58.355496Z",
     "iopub.status.idle": "2025-04-13T12:44:59.271345Z",
     "shell.execute_reply": "2025-04-13T12:44:59.270621Z"
    },
    "papermill": {
     "duration": 0.927901,
     "end_time": "2025-04-13T12:44:59.272981",
     "exception": false,
     "start_time": "2025-04-13T12:44:58.345080",
     "status": "completed"
    },
    "tags": []
   },
   "outputs": [
    {
     "data": {
      "image/png": "[encoded data removed]",
      "text/plain": [
       "<Figure size 1000x400 with 20 Axes>"
      ]
     },
     "metadata": {},
     "output_type": "display_data"
    }
   ],
   "source": [
    "plt.figure(figsize=(10, 4))\n",
    "for i, (orig, adv, label) in enumerate(adversarial_examples):\n",
    "    plt.subplot(2, 10, i+1)\n",
    "    plt.imshow(orig.squeeze(), cmap='gray')\n",
    "    plt.title(f\"Label: {label}\")\n",
    "    plt.axis('off')\n",
    "\n",
    "    plt.subplot(2, 10, i+11)\n",
    "    plt.imshow(adv.squeeze(), cmap='gray')\n",
    "    plt.title(\"Adv\")\n",
    "    plt.axis('off')\n",
    "plt.tight_layout()\n",
    "plt.show()"
   ]
  },
  {
   "cell_type": "markdown",
   "id": "f4cd49b6",
   "metadata": {
    "papermill": {
     "duration": 0.010349,
     "end_time": "2025-04-13T12:44:59.294628",
     "exception": false,
     "start_time": "2025-04-13T12:44:59.284279",
     "status": "completed"
    },
    "tags": []
   },
   "source": [
    "**Entraînement sur les exemples adversaires**"
   ]
  },
  {
   "cell_type": "code",
   "execution_count": 8,
   "id": "44763af8",
   "metadata": {
    "execution": {
     "iopub.execute_input": "2025-04-13T12:44:59.316575Z",
     "iopub.status.busy": "2025-04-13T12:44:59.316278Z",
     "iopub.status.idle": "2025-04-13T12:45:16.508877Z",
     "shell.execute_reply": "2025-04-13T12:45:16.508060Z"
    },
    "papermill": {
     "duration": 17.204823,
     "end_time": "2025-04-13T12:45:16.510044",
     "exception": false,
     "start_time": "2025-04-13T12:44:59.305221",
     "status": "completed"
    },
    "tags": []
   },
   "outputs": [
    {
     "name": "stdout",
     "output_type": "stream",
     "text": [
      "Epoch 1/5\n",
      "\u001b[1m57/57\u001b[0m \u001b[32m━━━━━━━━━━━━━━━━━━━━\u001b[0m\u001b[37m\u001b[0m \u001b[1m3s\u001b[0m 24ms/step - accuracy: 0.5914 - loss: 1.4057 - val_accuracy: 0.8550 - val_loss: 0.4008\n",
      "Epoch 2/5\n",
      "\u001b[1m57/57\u001b[0m \u001b[32m━━━━━━━━━━━━━━━━━━━━\u001b[0m\u001b[37m\u001b[0m \u001b[1m0s\u001b[0m 2ms/step - accuracy: 0.8993 - loss: 0.3286 - val_accuracy: 0.9300 - val_loss: 0.2416\n",
      "Epoch 3/5\n",
      "\u001b[1m57/57\u001b[0m \u001b[32m━━━━━━━━━━━━━━━━━━━━\u001b[0m\u001b[37m\u001b[0m \u001b[1m0s\u001b[0m 2ms/step - accuracy: 0.9659 - loss: 0.1469 - val_accuracy: 0.9400 - val_loss: 0.2070\n",
      "Epoch 4/5\n",
      "\u001b[1m57/57\u001b[0m \u001b[32m━━━━━━━━━━━━━━━━━━━━\u001b[0m\u001b[37m\u001b[0m \u001b[1m0s\u001b[0m 2ms/step - accuracy: 0.9767 - loss: 0.1111 - val_accuracy: 0.9750 - val_loss: 0.0809\n",
      "Epoch 5/5\n",
      "\u001b[1m57/57\u001b[0m \u001b[32m━━━━━━━━━━━━━━━━━━━━\u001b[0m\u001b[37m\u001b[0m \u001b[1m0s\u001b[0m 2ms/step - accuracy: 0.9853 - loss: 0.0578 - val_accuracy: 1.0000 - val_loss: 0.0337\n"
     ]
    },
    {
     "data": {
      "text/plain": [
       "<keras.src.callbacks.history.History at 0x7a93d060f210>"
      ]
     },
     "execution_count": 8,
     "metadata": {},
     "output_type": "execute_result"
    }
   ],
   "source": [
    "x_adv_train = []\n",
    "y_adv_train = []\n",
    "\n",
    "for i in range(1000):\n",
    "    image = x_train[i]\n",
    "    label = y_train[i]\n",
    "    perturbation = create_adversarial_pattern(model, image, label)\n",
    "    adversarial_img = image + epsilon * perturbation[0]\n",
    "    adversarial_img = tf.clip_by_value(adversarial_img, 0.0, 1.0)\n",
    "    x_adv_train.append(adversarial_img)\n",
    "    y_adv_train.append(label)\n",
    "\n",
    "x_adv_train = np.array(x_adv_train)\n",
    "y_adv_train = np.array(y_adv_train)\n",
    "\n",
    "x_combined = np.concatenate([x_train[:1000], x_adv_train])\n",
    "y_combined = np.concatenate([y_train[:1000], y_adv_train])\n",
    "\n",
    "model_adv = create_model()\n",
    "model_adv.compile(optimizer='adam', loss=loss_fn, metrics=['accuracy'])\n",
    "model_adv.fit(x_combined, y_combined, epochs=5, validation_split=0.1)\n"
   ]
  },
  {
   "cell_type": "markdown",
   "id": "452cb4ca",
   "metadata": {
    "papermill": {
     "duration": 0.011592,
     "end_time": "2025-04-13T12:45:16.533718",
     "exception": false,
     "start_time": "2025-04-13T12:45:16.522126",
     "status": "completed"
    },
    "tags": []
   },
   "source": [
    "**Evaluation sur images adversaires**"
   ]
  },
  {
   "cell_type": "code",
   "execution_count": 9,
   "id": "58e6d8a0",
   "metadata": {
    "execution": {
     "iopub.execute_input": "2025-04-13T12:45:16.557431Z",
     "iopub.status.busy": "2025-04-13T12:45:16.557083Z",
     "iopub.status.idle": "2025-04-13T12:46:22.688050Z",
     "shell.execute_reply": "2025-04-13T12:46:22.687269Z"
    },
    "papermill": {
     "duration": 66.154438,
     "end_time": "2025-04-13T12:46:22.699516",
     "exception": false,
     "start_time": "2025-04-13T12:45:16.545078",
     "status": "completed"
    },
    "tags": []
   },
   "outputs": [
    {
     "name": "stdout",
     "output_type": "stream",
     "text": [
      "157/157 - 0s - 1ms/step - accuracy: 0.8970 - loss: 0.3590\n",
      "\n",
      "Adversarial test accuracy: 0.8970000147819519\n"
     ]
    }
   ],
   "source": [
    "x_test_adv = []\n",
    "for i in range(len(x_test)):\n",
    "    pert = create_adversarial_pattern(model_adv, x_test[i], y_test[i])\n",
    "    x_test_adv.append(tf.clip_by_value(x_test[i] + epsilon * pert[0], 0.0, 1.0))\n",
    "x_test_adv = np.array(x_test_adv)\n",
    "\n",
    "adv_loss, adv_acc = model_adv.evaluate(x_test_adv, y_test, verbose=2)\n",
    "print(\"\\nAdversarial test accuracy:\", adv_acc)"
   ]
  },
  {
   "cell_type": "markdown",
   "id": "fe42b17d",
   "metadata": {
    "papermill": {
     "duration": 0.062624,
     "end_time": "2025-04-13T12:46:22.773711",
     "exception": false,
     "start_time": "2025-04-13T12:46:22.711087",
     "status": "completed"
    },
    "tags": []
   },
   "source": [
    "# **Analyse et défense adversariale**\n",
    "\n",
    "# - *FGSM* : attaque rapide qui perturbe les pixels selon le gradient de perte\n",
    "# - *Adversarial Training* : consiste à inclure les données perturbées pendant l'entraînement\n",
    "\n",
    "# *Accuracy propre* : 0.9847  \n",
    "# *Accuracy avec attaques* : 0.4354  \n",
    "# \n",
    "# *Commentaires* : \n",
    "# - La robustesse augmente contrairement à la première version, car on a diminué la valeur d'epsilone pour avoir moins de perturbation\n",
    "# - Mais l'entraînement est plus long\n"
   ]
  }
 ],
 "metadata": {
  "kaggle": {
   "accelerator": "gpu",
   "dataSources": [
    {
     "datasetId": 7101184,
     "sourceId": 11349085,
     "sourceType": "datasetVersion"
    }
   ],
   "dockerImageVersionId": 31011,
   "isGpuEnabled": true,
   "isInternetEnabled": true,
   "language": "python",
   "sourceType": "notebook"
  },
  "kernelspec": {
   "display_name": "Python 3",
   "language": "python",
   "name": "python3"
  },
  "language_info": {
   "codemirror_mode": {
    "name": "ipython",
    "version": 3
   },
   "file_extension": ".py",
   "mimetype": "text/x-python",
   "name": "python",
   "nbconvert_exporter": "python",
   "pygments_lexer": "ipython3",
   "version": "3.11.11"
  },
  "papermill": {
   "default_parameters": {},
   "duration": 129.359898,
   "end_time": "2025-04-13T12:46:26.225084",
   "environment_variables": {},
   "exception": null,
   "input_path": "__notebook__.ipynb",
   "output_path": "__notebook__.ipynb",
   "parameters": {},
   "start_time": "2025-04-13T12:44:16.865186",
   "version": "2.6.0"
  }
 },
 "nbformat": 4,
 "nbformat_minor": 5
}
