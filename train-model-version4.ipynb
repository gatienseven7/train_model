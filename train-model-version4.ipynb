{
 "cells": [
  {
   "cell_type": "code",
   "execution_count": 1,
   "id": "c0f75522",
   "metadata": {
    "execution": {
     "iopub.execute_input": "2025-04-13T13:11:49.578553Z",
     "iopub.status.busy": "2025-04-13T13:11:49.577909Z",
     "iopub.status.idle": "2025-04-13T13:12:03.594934Z",
     "shell.execute_reply": "2025-04-13T13:12:03.594070Z"
    },
    "papermill": {
     "duration": 14.023137,
     "end_time": "2025-04-13T13:12:03.596473",
     "exception": false,
     "start_time": "2025-04-13T13:11:49.573336",
     "status": "completed"
    },
    "tags": []
   },
   "outputs": [
    {
     "name": "stderr",
     "output_type": "stream",
     "text": [
      "2025-04-13 13:11:52.620982: E external/local_xla/xla/stream_executor/cuda/cuda_fft.cc:477] Unable to register cuFFT factory: Attempting to register factory for plugin cuFFT when one has already been registered\n",
      "WARNING: All log messages before absl::InitializeLog() is called are written to STDERR\n",
      "E0000 00:00:1744549912.812246      19 cuda_dnn.cc:8310] Unable to register cuDNN factory: Attempting to register factory for plugin cuDNN when one has already been registered\n",
      "E0000 00:00:1744549912.865989      19 cuda_blas.cc:1418] Unable to register cuBLAS factory: Attempting to register factory for plugin cuBLAS when one has already been registered\n"
     ]
    }
   ],
   "source": [
    "import numpy as np\n",
    "import pandas as pd\n",
    "import tensorflow as tf\n",
    "import matplotlib.pyplot as plt\n"
   ]
  },
  {
   "cell_type": "markdown",
   "id": "6badc831",
   "metadata": {
    "papermill": {
     "duration": 0.002675,
     "end_time": "2025-04-13T13:12:03.602538",
     "exception": false,
     "start_time": "2025-04-13T13:12:03.599863",
     "status": "completed"
    },
    "tags": []
   },
   "source": [
    "**Chargement des données**"
   ]
  },
  {
   "cell_type": "code",
   "execution_count": 2,
   "id": "bbef0914",
   "metadata": {
    "execution": {
     "iopub.execute_input": "2025-04-13T13:12:03.609304Z",
     "iopub.status.busy": "2025-04-13T13:12:03.608764Z",
     "iopub.status.idle": "2025-04-13T13:12:07.935144Z",
     "shell.execute_reply": "2025-04-13T13:12:07.934513Z"
    },
    "papermill": {
     "duration": 4.331161,
     "end_time": "2025-04-13T13:12:07.936528",
     "exception": false,
     "start_time": "2025-04-13T13:12:03.605367",
     "status": "completed"
    },
    "tags": []
   },
   "outputs": [],
   "source": [
    "train_df = pd.read_csv(\"/kaggle/input/training-model/train.csv\")\n",
    "test_df = pd.read_csv(\"/kaggle/input/training-model/test.csv\")\n",
    "\n",
    "x_train = train_df.drop(\"label\", axis=1).values.reshape(-1, 28, 28, 1) / 255.0\n",
    "y_train = train_df[\"label\"].values\n",
    "\n",
    "x_test = x_train[-5000:]\n",
    "y_test = y_train[-5000:]\n",
    "x_train = x_train[:-5000]\n",
    "y_train = y_train[:-5000]"
   ]
  },
  {
   "cell_type": "markdown",
   "id": "49624e2c",
   "metadata": {
    "papermill": {
     "duration": 0.002665,
     "end_time": "2025-04-13T13:12:07.942446",
     "exception": false,
     "start_time": "2025-04-13T13:12:07.939781",
     "status": "completed"
    },
    "tags": []
   },
   "source": [
    "**Création du modèle (CNN)**"
   ]
  },
  {
   "cell_type": "code",
   "execution_count": 3,
   "id": "df6639b0",
   "metadata": {
    "execution": {
     "iopub.execute_input": "2025-04-13T13:12:07.949003Z",
     "iopub.status.busy": "2025-04-13T13:12:07.948749Z",
     "iopub.status.idle": "2025-04-13T13:12:10.142259Z",
     "shell.execute_reply": "2025-04-13T13:12:10.141663Z"
    },
    "papermill": {
     "duration": 2.198206,
     "end_time": "2025-04-13T13:12:10.143544",
     "exception": false,
     "start_time": "2025-04-13T13:12:07.945338",
     "status": "completed"
    },
    "tags": []
   },
   "outputs": [
    {
     "name": "stderr",
     "output_type": "stream",
     "text": [
      "/usr/local/lib/python3.11/dist-packages/keras/src/layers/convolutional/base_conv.py:107: UserWarning: Do not pass an `input_shape`/`input_dim` argument to a layer. When using Sequential models, prefer using an `Input(shape)` object as the first layer in the model instead.\n",
      "  super().__init__(activity_regularizer=activity_regularizer, **kwargs)\n",
      "I0000 00:00:1744549928.974251      19 gpu_device.cc:2022] Created device /job:localhost/replica:0/task:0/device:GPU:0 with 15513 MB memory:  -> device: 0, name: Tesla P100-PCIE-16GB, pci bus id: 0000:00:04.0, compute capability: 6.0\n"
     ]
    }
   ],
   "source": [
    "def create_model():\n",
    "    model = tf.keras.Sequential([\n",
    "        tf.keras.layers.Conv2D(32, (3,3), activation='relu', input_shape=(28,28,1)),\n",
    "        tf.keras.layers.MaxPooling2D(),\n",
    "        tf.keras.layers.Flatten(),\n",
    "        tf.keras.layers.Dense(100, activation='relu'),\n",
    "        tf.keras.layers.Dense(10)\n",
    "    ])\n",
    "    return model\n",
    "\n",
    "model = create_model()\n",
    "loss_fn = tf.keras.losses.SparseCategoricalCrossentropy(from_logits=True)\n",
    "model.compile(optimizer='adam', loss=loss_fn, metrics=['accuracy'])\n"
   ]
  },
  {
   "cell_type": "markdown",
   "id": "458af251",
   "metadata": {
    "papermill": {
     "duration": 0.00268,
     "end_time": "2025-04-13T13:12:10.149370",
     "exception": false,
     "start_time": "2025-04-13T13:12:10.146690",
     "status": "completed"
    },
    "tags": []
   },
   "source": [
    "**Entraînement initial**"
   ]
  },
  {
   "cell_type": "code",
   "execution_count": 4,
   "id": "309a2067",
   "metadata": {
    "execution": {
     "iopub.execute_input": "2025-04-13T13:12:10.155736Z",
     "iopub.status.busy": "2025-04-13T13:12:10.155534Z",
     "iopub.status.idle": "2025-04-13T13:12:23.554299Z",
     "shell.execute_reply": "2025-04-13T13:12:23.553676Z"
    },
    "papermill": {
     "duration": 13.4032,
     "end_time": "2025-04-13T13:12:23.555382",
     "exception": false,
     "start_time": "2025-04-13T13:12:10.152182",
     "status": "completed"
    },
    "tags": []
   },
   "outputs": [
    {
     "name": "stdout",
     "output_type": "stream",
     "text": [
      "Epoch 1/5\n"
     ]
    },
    {
     "name": "stderr",
     "output_type": "stream",
     "text": [
      "WARNING: All log messages before absl::InitializeLog() is called are written to STDERR\n",
      "I0000 00:00:1744549931.817558      59 service.cc:148] XLA service 0x7c9d6c007710 initialized for platform CUDA (this does not guarantee that XLA will be used). Devices:\n",
      "I0000 00:00:1744549931.818129      59 service.cc:156]   StreamExecutor device (0): Tesla P100-PCIE-16GB, Compute Capability 6.0\n",
      "I0000 00:00:1744549931.998596      59 cuda_dnn.cc:529] Loaded cuDNN version 90300\n"
     ]
    },
    {
     "name": "stdout",
     "output_type": "stream",
     "text": [
      "\u001b[1m 100/1041\u001b[0m \u001b[32m━\u001b[0m\u001b[37m━━━━━━━━━━━━━━━━━━━\u001b[0m \u001b[1m1s\u001b[0m 2ms/step - accuracy: 0.6823 - loss: 1.1109"
     ]
    },
    {
     "name": "stderr",
     "output_type": "stream",
     "text": [
      "I0000 00:00:1744549933.214547      59 device_compiler.h:188] Compiled cluster using XLA!  This line is logged at most once for the lifetime of the process.\n"
     ]
    },
    {
     "name": "stdout",
     "output_type": "stream",
     "text": [
      "\u001b[1m1041/1041\u001b[0m \u001b[32m━━━━━━━━━━━━━━━━━━━━\u001b[0m\u001b[37m\u001b[0m \u001b[1m6s\u001b[0m 3ms/step - accuracy: 0.8829 - loss: 0.3975 - val_accuracy: 0.9741 - val_loss: 0.0898\n",
      "Epoch 2/5\n",
      "\u001b[1m1041/1041\u001b[0m \u001b[32m━━━━━━━━━━━━━━━━━━━━\u001b[0m\u001b[37m\u001b[0m \u001b[1m2s\u001b[0m 2ms/step - accuracy: 0.9787 - loss: 0.0722 - val_accuracy: 0.9792 - val_loss: 0.0670\n",
      "Epoch 3/5\n",
      "\u001b[1m1041/1041\u001b[0m \u001b[32m━━━━━━━━━━━━━━━━━━━━\u001b[0m\u001b[37m\u001b[0m \u001b[1m2s\u001b[0m 2ms/step - accuracy: 0.9873 - loss: 0.0417 - val_accuracy: 0.9827 - val_loss: 0.0570\n",
      "Epoch 4/5\n",
      "\u001b[1m1041/1041\u001b[0m \u001b[32m━━━━━━━━━━━━━━━━━━━━\u001b[0m\u001b[37m\u001b[0m \u001b[1m2s\u001b[0m 2ms/step - accuracy: 0.9924 - loss: 0.0252 - val_accuracy: 0.9843 - val_loss: 0.0596\n",
      "Epoch 5/5\n",
      "\u001b[1m1041/1041\u001b[0m \u001b[32m━━━━━━━━━━━━━━━━━━━━\u001b[0m\u001b[37m\u001b[0m \u001b[1m2s\u001b[0m 2ms/step - accuracy: 0.9947 - loss: 0.0198 - val_accuracy: 0.9827 - val_loss: 0.0673\n"
     ]
    },
    {
     "data": {
      "text/plain": [
       "<keras.src.callbacks.history.History at 0x7c9e69fb4ad0>"
      ]
     },
     "execution_count": 4,
     "metadata": {},
     "output_type": "execute_result"
    }
   ],
   "source": [
    "model.fit(x_train, y_train, epochs=5, validation_split=0.1)"
   ]
  },
  {
   "cell_type": "markdown",
   "id": "ab561748",
   "metadata": {
    "papermill": {
     "duration": 0.01001,
     "end_time": "2025-04-13T13:12:23.576226",
     "exception": false,
     "start_time": "2025-04-13T13:12:23.566216",
     "status": "completed"
    },
    "tags": []
   },
   "source": [
    "**On affiche l'évaluation propre**"
   ]
  },
  {
   "cell_type": "code",
   "execution_count": 5,
   "id": "f348cb36",
   "metadata": {
    "execution": {
     "iopub.execute_input": "2025-04-13T13:12:23.596471Z",
     "iopub.status.busy": "2025-04-13T13:12:23.596237Z",
     "iopub.status.idle": "2025-04-13T13:12:24.188432Z",
     "shell.execute_reply": "2025-04-13T13:12:24.187703Z"
    },
    "papermill": {
     "duration": 0.603624,
     "end_time": "2025-04-13T13:12:24.189611",
     "exception": false,
     "start_time": "2025-04-13T13:12:23.585987",
     "status": "completed"
    },
    "tags": []
   },
   "outputs": [
    {
     "name": "stdout",
     "output_type": "stream",
     "text": [
      "157/157 - 1s - 3ms/step - accuracy: 0.9836 - loss: 0.0584\n",
      "\n",
      "Clean test accuracy: 0.9836000204086304\n"
     ]
    }
   ],
   "source": [
    "clean_loss, clean_acc = model.evaluate(x_test, y_test, verbose=2)\n",
    "print(\"\\nClean test accuracy:\", clean_acc)"
   ]
  },
  {
   "cell_type": "markdown",
   "id": "fc73615e",
   "metadata": {
    "papermill": {
     "duration": 0.011639,
     "end_time": "2025-04-13T13:12:24.213485",
     "exception": false,
     "start_time": "2025-04-13T13:12:24.201846",
     "status": "completed"
    },
    "tags": []
   },
   "source": [
    "**FGSM pour les exemples adversariales**"
   ]
  },
  {
   "cell_type": "code",
   "execution_count": 6,
   "id": "06e1f5df",
   "metadata": {
    "execution": {
     "iopub.execute_input": "2025-04-13T13:12:24.237189Z",
     "iopub.status.busy": "2025-04-13T13:12:24.236945Z",
     "iopub.status.idle": "2025-04-13T13:12:25.533997Z",
     "shell.execute_reply": "2025-04-13T13:12:25.533412Z"
    },
    "papermill": {
     "duration": 1.31041,
     "end_time": "2025-04-13T13:12:25.535375",
     "exception": false,
     "start_time": "2025-04-13T13:12:24.224965",
     "status": "completed"
    },
    "tags": []
   },
   "outputs": [],
   "source": [
    "def create_adversarial_pattern(model, image, label):\n",
    "    image = tf.convert_to_tensor(image[None, ...])\n",
    "    label = tf.convert_to_tensor(label[None])\n",
    "    \n",
    "    with tf.GradientTape() as tape:\n",
    "        tape.watch(image)\n",
    "        prediction = model(image)\n",
    "        loss = loss_fn(label, prediction)\n",
    "\n",
    "    gradient = tape.gradient(loss, image)\n",
    "    signed_grad = tf.sign(gradient)\n",
    "    return signed_grad\n",
    "\n",
    "epsilon = 0.1\n",
    "adversarial_examples = []\n",
    "for i in range(10):\n",
    "    image = x_test[i]\n",
    "    label = y_test[i]\n",
    "    perturbation = create_adversarial_pattern(model, image, label)\n",
    "    adversarial_img = image + epsilon * perturbation[0]\n",
    "    adversarial_img = tf.clip_by_value(adversarial_img, 0.0, 1.0)\n",
    "    adversarial_examples.append((image, adversarial_img.numpy(), label))"
   ]
  },
  {
   "cell_type": "markdown",
   "id": "1e91d6af",
   "metadata": {
    "papermill": {
     "duration": 0.009513,
     "end_time": "2025-04-13T13:12:25.555122",
     "exception": false,
     "start_time": "2025-04-13T13:12:25.545609",
     "status": "completed"
    },
    "tags": []
   },
   "source": [
    "**On doit visualiser à présent**"
   ]
  },
  {
   "cell_type": "code",
   "execution_count": 7,
   "id": "544c32c0",
   "metadata": {
    "execution": {
     "iopub.execute_input": "2025-04-13T13:12:25.574962Z",
     "iopub.status.busy": "2025-04-13T13:12:25.574704Z",
     "iopub.status.idle": "2025-04-13T13:12:25.580128Z",
     "shell.execute_reply": "2025-04-13T13:12:25.579376Z"
    },
    "papermill": {
     "duration": 0.016766,
     "end_time": "2025-04-13T13:12:25.581305",
     "exception": false,
     "start_time": "2025-04-13T13:12:25.564539",
     "status": "completed"
    },
    "tags": []
   },
   "outputs": [],
   "source": [
    "def show_comparison(model, original_img, adv_img, label):\n",
    "    pred_clean = np.argmax(model.predict(original_img[None, ...]))\n",
    "    pred_adv = np.argmax(model.predict(adv_img[None, ...]))\n",
    "\n",
    "    plt.figure(figsize=(6,3))\n",
    "    plt.subplot(1,2,1)\n",
    "    plt.imshow(original_img.squeeze(), cmap='gray')\n",
    "    plt.title(f\"Clean\\\\nTrue: {label} | Pred: {pred_clean}\",\n",
    "              color='blue' if pred_clean == label else 'red')\n",
    "    plt.axis('off')\n",
    "\n",
    "    plt.subplot(1,2,2)\n",
    "    plt.imshow(adv_img.squeeze(), cmap='gray')\n",
    "    plt.title(f\"Adversarial\\\\nTrue: {label} | Pred: {pred_adv}\",\n",
    "              color='blue' if pred_adv == label else 'red')\n",
    "    plt.axis('off')\n",
    "\n",
    "    plt.tight_layout()\n",
    "    plt.show()\n"
   ]
  },
  {
   "cell_type": "code",
   "execution_count": 8,
   "id": "4de10ab0",
   "metadata": {
    "execution": {
     "iopub.execute_input": "2025-04-13T13:12:25.601345Z",
     "iopub.status.busy": "2025-04-13T13:12:25.601139Z",
     "iopub.status.idle": "2025-04-13T13:12:27.085679Z",
     "shell.execute_reply": "2025-04-13T13:12:27.085012Z"
    },
    "papermill": {
     "duration": 1.495905,
     "end_time": "2025-04-13T13:12:27.086890",
     "exception": false,
     "start_time": "2025-04-13T13:12:25.590985",
     "status": "completed"
    },
    "tags": []
   },
   "outputs": [
    {
     "name": "stdout",
     "output_type": "stream",
     "text": [
      "\u001b[1m1/1\u001b[0m \u001b[32m━━━━━━━━━━━━━━━━━━━━\u001b[0m\u001b[37m\u001b[0m \u001b[1m0s\u001b[0m 256ms/step\n",
      "\u001b[1m1/1\u001b[0m \u001b[32m━━━━━━━━━━━━━━━━━━━━\u001b[0m\u001b[37m\u001b[0m \u001b[1m0s\u001b[0m 16ms/step\n"
     ]
    },
    {
     "data": {
      "image/png": "[encoded data removed]",
      "text/plain": [
       "<Figure size 600x300 with 2 Axes>"
      ]
     },
     "metadata": {},
     "output_type": "display_data"
    },
    {
     "name": "stdout",
     "output_type": "stream",
     "text": [
      "\u001b[1m1/1\u001b[0m \u001b[32m━━━━━━━━━━━━━━━━━━━━\u001b[0m\u001b[37m\u001b[0m \u001b[1m0s\u001b[0m 16ms/step\n",
      "\u001b[1m1/1\u001b[0m \u001b[32m━━━━━━━━━━━━━━━━━━━━\u001b[0m\u001b[37m\u001b[0m \u001b[1m0s\u001b[0m 15ms/step\n"
     ]
    },
    {
     "data": {
      "image/png": "[encoded data removed]",
      "text/plain": [
       "<Figure size 600x300 with 2 Axes>"
      ]
     },
     "metadata": {},
     "output_type": "display_data"
    },
    {
     "name": "stdout",
     "output_type": "stream",
     "text": [
      "\u001b[1m1/1\u001b[0m \u001b[32m━━━━━━━━━━━━━━━━━━━━\u001b[0m\u001b[37m\u001b[0m \u001b[1m0s\u001b[0m 16ms/step\n",
      "\u001b[1m1/1\u001b[0m \u001b[32m━━━━━━━━━━━━━━━━━━━━\u001b[0m\u001b[37m\u001b[0m \u001b[1m0s\u001b[0m 15ms/step\n"
     ]
    },
    {
     "data": {
      "image/png": "[encoded data removed]",
      "text/plain": [
       "<Figure size 600x300 with 2 Axes>"
      ]
     },
     "metadata": {},
     "output_type": "display_data"
    },
    {
     "name": "stdout",
     "output_type": "stream",
     "text": [
      "\u001b[1m1/1\u001b[0m \u001b[32m━━━━━━━━━━━━━━━━━━━━\u001b[0m\u001b[37m\u001b[0m \u001b[1m0s\u001b[0m 16ms/step\n",
      "\u001b[1m1/1\u001b[0m \u001b[32m━━━━━━━━━━━━━━━━━━━━\u001b[0m\u001b[37m\u001b[0m \u001b[1m0s\u001b[0m 15ms/step\n"
     ]
    },
    {
     "data": {
      "image/png": "[encoded data removed]",
      "text/plain": [
       "<Figure size 600x300 with 2 Axes>"
      ]
     },
     "metadata": {},
     "output_type": "display_data"
    },
    {
     "name": "stdout",
     "output_type": "stream",
     "text": [
      "\u001b[1m1/1\u001b[0m \u001b[32m━━━━━━━━━━━━━━━━━━━━\u001b[0m\u001b[37m\u001b[0m \u001b[1m0s\u001b[0m 16ms/step\n",
      "\u001b[1m1/1\u001b[0m \u001b[32m━━━━━━━━━━━━━━━━━━━━\u001b[0m\u001b[37m\u001b[0m \u001b[1m0s\u001b[0m 15ms/step\n"
     ]
    },
    {
     "data": {
      "image/png": "[encoded data removed]",
      "text/plain": [
       "<Figure size 600x300 with 2 Axes>"
      ]
     },
     "metadata": {},
     "output_type": "display_data"
    }
   ],
   "source": [
    "# Afficher la comparaison pour les 5 premiers exemples\n",
    "for i in range(5):\n",
    "    orig, adv, lbl = adversarial_examples[i]\n",
    "    show_comparison(model, orig, adv, lbl)\n"
   ]
  },
  {
   "cell_type": "markdown",
   "id": "8692002e",
   "metadata": {
    "papermill": {
     "duration": 0.011203,
     "end_time": "2025-04-13T13:12:27.110668",
     "exception": false,
     "start_time": "2025-04-13T13:12:27.099465",
     "status": "completed"
    },
    "tags": []
   },
   "source": [
    "**Entraînement sur les exemples adversaires**"
   ]
  },
  {
   "cell_type": "code",
   "execution_count": 9,
   "id": "3f5407f7",
   "metadata": {
    "execution": {
     "iopub.execute_input": "2025-04-13T13:12:27.134242Z",
     "iopub.status.busy": "2025-04-13T13:12:27.134004Z",
     "iopub.status.idle": "2025-04-13T13:12:43.474414Z",
     "shell.execute_reply": "2025-04-13T13:12:43.473863Z"
    },
    "papermill": {
     "duration": 16.353619,
     "end_time": "2025-04-13T13:12:43.475527",
     "exception": false,
     "start_time": "2025-04-13T13:12:27.121908",
     "status": "completed"
    },
    "tags": []
   },
   "outputs": [
    {
     "name": "stdout",
     "output_type": "stream",
     "text": [
      "Epoch 1/5\n",
      "\u001b[1m57/57\u001b[0m \u001b[32m━━━━━━━━━━━━━━━━━━━━\u001b[0m\u001b[37m\u001b[0m \u001b[1m3s\u001b[0m 24ms/step - accuracy: 0.5547 - loss: 1.4594 - val_accuracy: 0.8650 - val_loss: 0.4403\n",
      "Epoch 2/5\n",
      "\u001b[1m57/57\u001b[0m \u001b[32m━━━━━━━━━━━━━━━━━━━━\u001b[0m\u001b[37m\u001b[0m \u001b[1m0s\u001b[0m 2ms/step - accuracy: 0.8894 - loss: 0.3656 - val_accuracy: 0.9200 - val_loss: 0.2654\n",
      "Epoch 3/5\n",
      "\u001b[1m57/57\u001b[0m \u001b[32m━━━━━━━━━━━━━━━━━━━━\u001b[0m\u001b[37m\u001b[0m \u001b[1m0s\u001b[0m 2ms/step - accuracy: 0.9451 - loss: 0.2111 - val_accuracy: 0.9400 - val_loss: 0.1958\n",
      "Epoch 4/5\n",
      "\u001b[1m57/57\u001b[0m \u001b[32m━━━━━━━━━━━━━━━━━━━━\u001b[0m\u001b[37m\u001b[0m \u001b[1m0s\u001b[0m 2ms/step - accuracy: 0.9606 - loss: 0.1545 - val_accuracy: 0.9750 - val_loss: 0.0922\n",
      "Epoch 5/5\n",
      "\u001b[1m57/57\u001b[0m \u001b[32m━━━━━━━━━━━━━━━━━━━━\u001b[0m\u001b[37m\u001b[0m \u001b[1m0s\u001b[0m 2ms/step - accuracy: 0.9831 - loss: 0.0766 - val_accuracy: 0.9900 - val_loss: 0.0565\n"
     ]
    },
    {
     "data": {
      "text/plain": [
       "<keras.src.callbacks.history.History at 0x7c9e44308710>"
      ]
     },
     "execution_count": 9,
     "metadata": {},
     "output_type": "execute_result"
    }
   ],
   "source": [
    "x_adv_train = []\n",
    "y_adv_train = []\n",
    "\n",
    "for i in range(1000):\n",
    "    image = x_train[i]\n",
    "    label = y_train[i]\n",
    "    perturbation = create_adversarial_pattern(model, image, label)\n",
    "    adversarial_img = image + epsilon * perturbation[0]\n",
    "    adversarial_img = tf.clip_by_value(adversarial_img, 0.0, 1.0)\n",
    "    x_adv_train.append(adversarial_img)\n",
    "    y_adv_train.append(label)\n",
    "\n",
    "x_adv_train = np.array(x_adv_train)\n",
    "y_adv_train = np.array(y_adv_train)\n",
    "\n",
    "x_combined = np.concatenate([x_train[:1000], x_adv_train])\n",
    "y_combined = np.concatenate([y_train[:1000], y_adv_train])\n",
    "\n",
    "model_adv = create_model()\n",
    "model_adv.compile(optimizer='adam', loss=loss_fn, metrics=['accuracy'])\n",
    "model_adv.fit(x_combined, y_combined, epochs=5, validation_split=0.1)\n"
   ]
  },
  {
   "cell_type": "markdown",
   "id": "ff93fea9",
   "metadata": {
    "papermill": {
     "duration": 0.012006,
     "end_time": "2025-04-13T13:12:43.500393",
     "exception": false,
     "start_time": "2025-04-13T13:12:43.488387",
     "status": "completed"
    },
    "tags": []
   },
   "source": [
    "**Evaluation sur images adversaires**"
   ]
  },
  {
   "cell_type": "code",
   "execution_count": 10,
   "id": "a7030197",
   "metadata": {
    "execution": {
     "iopub.execute_input": "2025-04-13T13:12:43.525428Z",
     "iopub.status.busy": "2025-04-13T13:12:43.525221Z",
     "iopub.status.idle": "2025-04-13T13:12:44.881260Z",
     "shell.execute_reply": "2025-04-13T13:12:44.880633Z"
    },
    "papermill": {
     "duration": 1.369911,
     "end_time": "2025-04-13T13:12:44.882393",
     "exception": false,
     "start_time": "2025-04-13T13:12:43.512482",
     "status": "completed"
    },
    "tags": []
   },
   "outputs": [
    {
     "name": "stdout",
     "output_type": "stream",
     "text": [
      "\u001b[1m1/1\u001b[0m \u001b[32m━━━━━━━━━━━━━━━━━━━━\u001b[0m\u001b[37m\u001b[0m \u001b[1m0s\u001b[0m 196ms/step\n",
      "\u001b[1m1/1\u001b[0m \u001b[32m━━━━━━━━━━━━━━━━━━━━\u001b[0m\u001b[37m\u001b[0m \u001b[1m0s\u001b[0m 16ms/step\n"
     ]
    },
    {
     "data": {
      "image/png": "[encoded data removed]",
      "text/plain": [
       "<Figure size 600x300 with 2 Axes>"
      ]
     },
     "metadata": {},
     "output_type": "display_data"
    },
    {
     "name": "stdout",
     "output_type": "stream",
     "text": [
      "\u001b[1m1/1\u001b[0m \u001b[32m━━━━━━━━━━━━━━━━━━━━\u001b[0m\u001b[37m\u001b[0m \u001b[1m0s\u001b[0m 15ms/step\n",
      "\u001b[1m1/1\u001b[0m \u001b[32m━━━━━━━━━━━━━━━━━━━━\u001b[0m\u001b[37m\u001b[0m \u001b[1m0s\u001b[0m 15ms/step\n"
     ]
    },
    {
     "data": {
      "image/png": "[encoded data removed]",
      "text/plain": [
       "<Figure size 600x300 with 2 Axes>"
      ]
     },
     "metadata": {},
     "output_type": "display_data"
    },
    {
     "name": "stdout",
     "output_type": "stream",
     "text": [
      "\u001b[1m1/1\u001b[0m \u001b[32m━━━━━━━━━━━━━━━━━━━━\u001b[0m\u001b[37m\u001b[0m \u001b[1m0s\u001b[0m 16ms/step\n",
      "\u001b[1m1/1\u001b[0m \u001b[32m━━━━━━━━━━━━━━━━━━━━\u001b[0m\u001b[37m\u001b[0m \u001b[1m0s\u001b[0m 15ms/step\n"
     ]
    },
    {
     "data": {
      "image/png": "[encoded data removed]",
      "text/plain": [
       "<Figure size 600x300 with 2 Axes>"
      ]
     },
     "metadata": {},
     "output_type": "display_data"
    },
    {
     "name": "stdout",
     "output_type": "stream",
     "text": [
      "\u001b[1m1/1\u001b[0m \u001b[32m━━━━━━━━━━━━━━━━━━━━\u001b[0m\u001b[37m\u001b[0m \u001b[1m0s\u001b[0m 15ms/step\n",
      "\u001b[1m1/1\u001b[0m \u001b[32m━━━━━━━━━━━━━━━━━━━━\u001b[0m\u001b[37m\u001b[0m \u001b[1m0s\u001b[0m 15ms/step\n"
     ]
    },
    {
     "data": {
      "image/png": "[encoded data removed]",
      "text/plain": [
       "<Figure size 600x300 with 2 Axes>"
      ]
     },
     "metadata": {},
     "output_type": "display_data"
    },
    {
     "name": "stdout",
     "output_type": "stream",
     "text": [
      "\u001b[1m1/1\u001b[0m \u001b[32m━━━━━━━━━━━━━━━━━━━━\u001b[0m\u001b[37m\u001b[0m \u001b[1m0s\u001b[0m 16ms/step\n",
      "\u001b[1m1/1\u001b[0m \u001b[32m━━━━━━━━━━━━━━━━━━━━\u001b[0m\u001b[37m\u001b[0m \u001b[1m0s\u001b[0m 15ms/step\n"
     ]
    },
    {
     "data": {
      "image/png": "[encoded data removed]",
      "text/plain": [
       "<Figure size 600x300 with 2 Axes>"
      ]
     },
     "metadata": {},
     "output_type": "display_data"
    }
   ],
   "source": [
    "# Afficher la comparaison pour les 5 premiers exemples pour le modèle entraîné\n",
    "for i in range(5):\n",
    "    orig, adv, lbl = adversarial_examples[i]\n",
    "    show_comparison(model_adv, orig, adv, lbl)\n"
   ]
  },
  {
   "cell_type": "code",
   "execution_count": 11,
   "id": "b1b1eebf",
   "metadata": {
    "execution": {
     "iopub.execute_input": "2025-04-13T13:12:44.912453Z",
     "iopub.status.busy": "2025-04-13T13:12:44.912237Z",
     "iopub.status.idle": "2025-04-13T13:13:47.692940Z",
     "shell.execute_reply": "2025-04-13T13:13:47.692228Z"
    },
    "papermill": {
     "duration": 62.80994,
     "end_time": "2025-04-13T13:13:47.707101",
     "exception": false,
     "start_time": "2025-04-13T13:12:44.897161",
     "status": "completed"
    },
    "tags": []
   },
   "outputs": [
    {
     "name": "stdout",
     "output_type": "stream",
     "text": [
      "157/157 - 0s - 1ms/step - accuracy: 0.4860 - loss: 1.8798\n",
      "\n",
      "Adversarial test accuracy: 0.4860000014305115\n"
     ]
    }
   ],
   "source": [
    "x_test_adv = []\n",
    "for i in range(len(x_test)):\n",
    "    pert = create_adversarial_pattern(model_adv, x_test[i], y_test[i])\n",
    "    x_test_adv.append(tf.clip_by_value(x_test[i] + epsilon * pert[0], 0.0, 1.0))\n",
    "x_test_adv = np.array(x_test_adv)\n",
    "\n",
    "adv_loss, adv_acc = model_adv.evaluate(x_test_adv, y_test, verbose=2)\n",
    "print(\"\\nAdversarial test accuracy:\", adv_acc)"
   ]
  },
  {
   "cell_type": "markdown",
   "id": "47aa2199",
   "metadata": {
    "papermill": {
     "duration": 0.014594,
     "end_time": "2025-04-13T13:13:47.735925",
     "exception": false,
     "start_time": "2025-04-13T13:13:47.721331",
     "status": "completed"
    },
    "tags": []
   },
   "source": [
    "# **Analyse et défense adversariale**\n",
    "\n",
    "# - *FGSM* : attaque rapide qui perturbe les pixels selon le gradient de perte\n",
    "# - *Adversarial Training* : consiste à inclure les données perturbées pendant l'entraînement\n",
    "\n",
    "# *Accuracy propre* : 0.9847  \n",
    "# *Accuracy avec attaques* : 0.4347  \n",
    "# \n",
    "# *Commentaires* : \n",
    "# - La robustesse augmente contrairement à la première version\n",
    "# - Mais l'entraînement est plus long\n",
    "# - En gros, après entraînement, comme on le voit plus haut, sur 5 images avant on avait un taux d'échec de 2/5 mais après entraînement il est passé à 1/5 \n"
   ]
  }
 ],
 "metadata": {
  "kaggle": {
   "accelerator": "gpu",
   "dataSources": [
    {
     "datasetId": 7101184,
     "sourceId": 11349085,
     "sourceType": "datasetVersion"
    }
   ],
   "dockerImageVersionId": 31011,
   "isGpuEnabled": true,
   "isInternetEnabled": true,
   "language": "python",
   "sourceType": "notebook"
  },
  "kernelspec": {
   "display_name": "Python 3",
   "language": "python",
   "name": "python3"
  },
  "language_info": {
   "codemirror_mode": {
    "name": "ipython",
    "version": 3
   },
   "file_extension": ".py",
   "mimetype": "text/x-python",
   "name": "python",
   "nbconvert_exporter": "python",
   "pygments_lexer": "ipython3",
   "version": "3.11.11"
  },
  "papermill": {
   "default_parameters": {},
   "duration": 125.273262,
   "end_time": "2025-04-13T13:13:50.706286",
   "environment_variables": {},
   "exception": null,
   "input_path": "__notebook__.ipynb",
   "output_path": "__notebook__.ipynb",
   "parameters": {},
   "start_time": "2025-04-13T13:11:45.433024",
   "version": "2.6.0"
  }
 },
 "nbformat": 4,
 "nbformat_minor": 5
}
