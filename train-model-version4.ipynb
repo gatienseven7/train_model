{
 "cells": [
  {
   "cell_type": "code",
   "execution_count": 1,
   "id": "e60f795e",
   "metadata": {
    "execution": {
     "iopub.execute_input": "2025-04-13T13:17:28.054501Z",
     "iopub.status.busy": "2025-04-13T13:17:28.054231Z",
     "iopub.status.idle": "2025-04-13T13:17:42.795992Z",
     "shell.execute_reply": "2025-04-13T13:17:42.795321Z"
    },
    "papermill": {
     "duration": 14.747798,
     "end_time": "2025-04-13T13:17:42.797427",
     "exception": false,
     "start_time": "2025-04-13T13:17:28.049629",
     "status": "completed"
    },
    "tags": []
   },
   "outputs": [
    {
     "name": "stderr",
     "output_type": "stream",
     "text": [
      "2025-04-13 13:17:31.228365: E external/local_xla/xla/stream_executor/cuda/cuda_fft.cc:477] Unable to register cuFFT factory: Attempting to register factory for plugin cuFFT when one has already been registered\n",
      "WARNING: All log messages before absl::InitializeLog() is called are written to STDERR\n",
      "E0000 00:00:1744550251.429693      18 cuda_dnn.cc:8310] Unable to register cuDNN factory: Attempting to register factory for plugin cuDNN when one has already been registered\n",
      "E0000 00:00:1744550251.487379      18 cuda_blas.cc:1418] Unable to register cuBLAS factory: Attempting to register factory for plugin cuBLAS when one has already been registered\n"
     ]
    }
   ],
   "source": [
    "import numpy as np\n",
    "import pandas as pd\n",
    "import tensorflow as tf\n",
    "import matplotlib.pyplot as plt\n"
   ]
  },
  {
   "cell_type": "markdown",
   "id": "1930b16c",
   "metadata": {
    "papermill": {
     "duration": 0.002703,
     "end_time": "2025-04-13T13:17:42.803491",
     "exception": false,
     "start_time": "2025-04-13T13:17:42.800788",
     "status": "completed"
    },
    "tags": []
   },
   "source": [
    "**Chargement des données**"
   ]
  },
  {
   "cell_type": "code",
   "execution_count": 2,
   "id": "ce24dc1d",
   "metadata": {
    "execution": {
     "iopub.execute_input": "2025-04-13T13:17:42.810548Z",
     "iopub.status.busy": "2025-04-13T13:17:42.809795Z",
     "iopub.status.idle": "2025-04-13T13:17:47.532061Z",
     "shell.execute_reply": "2025-04-13T13:17:47.531331Z"
    },
    "papermill": {
     "duration": 4.727223,
     "end_time": "2025-04-13T13:17:47.533618",
     "exception": false,
     "start_time": "2025-04-13T13:17:42.806395",
     "status": "completed"
    },
    "tags": []
   },
   "outputs": [],
   "source": [
    "train_df = pd.read_csv(\"/kaggle/input/training-model/train.csv\")\n",
    "test_df = pd.read_csv(\"/kaggle/input/training-model/test.csv\")\n",
    "\n",
    "x_train = train_df.drop(\"label\", axis=1).values.reshape(-1, 28, 28, 1) / 255.0\n",
    "y_train = train_df[\"label\"].values\n",
    "\n",
    "x_test = x_train[-5000:]\n",
    "y_test = y_train[-5000:]\n",
    "x_train = x_train[:-5000]\n",
    "y_train = y_train[:-5000]"
   ]
  },
  {
   "cell_type": "markdown",
   "id": "16cf6fb9",
   "metadata": {
    "papermill": {
     "duration": 0.004755,
     "end_time": "2025-04-13T13:17:47.543704",
     "exception": false,
     "start_time": "2025-04-13T13:17:47.538949",
     "status": "completed"
    },
    "tags": []
   },
   "source": [
    "**Création du modèle (CNN)**"
   ]
  },
  {
   "cell_type": "code",
   "execution_count": 3,
   "id": "e31c1f93",
   "metadata": {
    "execution": {
     "iopub.execute_input": "2025-04-13T13:17:47.552949Z",
     "iopub.status.busy": "2025-04-13T13:17:47.552420Z",
     "iopub.status.idle": "2025-04-13T13:17:49.949100Z",
     "shell.execute_reply": "2025-04-13T13:17:49.948482Z"
    },
    "papermill": {
     "duration": 2.401964,
     "end_time": "2025-04-13T13:17:49.950588",
     "exception": false,
     "start_time": "2025-04-13T13:17:47.548624",
     "status": "completed"
    },
    "tags": []
   },
   "outputs": [
    {
     "name": "stderr",
     "output_type": "stream",
     "text": [
      "/usr/local/lib/python3.11/dist-packages/keras/src/layers/convolutional/base_conv.py:107: UserWarning: Do not pass an `input_shape`/`input_dim` argument to a layer. When using Sequential models, prefer using an `Input(shape)` object as the first layer in the model instead.\n",
      "  super().__init__(activity_regularizer=activity_regularizer, **kwargs)\n",
      "I0000 00:00:1744550268.649994      18 gpu_device.cc:2022] Created device /job:localhost/replica:0/task:0/device:GPU:0 with 15513 MB memory:  -> device: 0, name: Tesla P100-PCIE-16GB, pci bus id: 0000:00:04.0, compute capability: 6.0\n"
     ]
    }
   ],
   "source": [
    "def create_model():\n",
    "    model = tf.keras.Sequential([\n",
    "        tf.keras.layers.Conv2D(32, (3,3), activation='relu', input_shape=(28,28,1)),\n",
    "        tf.keras.layers.MaxPooling2D(),\n",
    "        tf.keras.layers.Flatten(),\n",
    "        tf.keras.layers.Dense(100, activation='relu'),\n",
    "        tf.keras.layers.Dense(10)\n",
    "    ])\n",
    "    return model\n",
    "\n",
    "model = create_model()\n",
    "loss_fn = tf.keras.losses.SparseCategoricalCrossentropy(from_logits=True)\n",
    "model.compile(optimizer='adam', loss=loss_fn, metrics=['accuracy'])\n"
   ]
  },
  {
   "cell_type": "markdown",
   "id": "b245c404",
   "metadata": {
    "papermill": {
     "duration": 0.002897,
     "end_time": "2025-04-13T13:17:49.956780",
     "exception": false,
     "start_time": "2025-04-13T13:17:49.953883",
     "status": "completed"
    },
    "tags": []
   },
   "source": [
    "**Entraînement initial**"
   ]
  },
  {
   "cell_type": "code",
   "execution_count": 4,
   "id": "0f23a924",
   "metadata": {
    "execution": {
     "iopub.execute_input": "2025-04-13T13:17:49.964268Z",
     "iopub.status.busy": "2025-04-13T13:17:49.963787Z",
     "iopub.status.idle": "2025-04-13T13:18:03.384490Z",
     "shell.execute_reply": "2025-04-13T13:18:03.383782Z"
    },
    "papermill": {
     "duration": 13.425803,
     "end_time": "2025-04-13T13:18:03.385772",
     "exception": false,
     "start_time": "2025-04-13T13:17:49.959969",
     "status": "completed"
    },
    "tags": []
   },
   "outputs": [
    {
     "name": "stdout",
     "output_type": "stream",
     "text": [
      "Epoch 1/5\n"
     ]
    },
    {
     "name": "stderr",
     "output_type": "stream",
     "text": [
      "WARNING: All log messages before absl::InitializeLog() is called are written to STDERR\n",
      "I0000 00:00:1744550271.642750      58 service.cc:148] XLA service 0x7fd9ac008b40 initialized for platform CUDA (this does not guarantee that XLA will be used). Devices:\n",
      "I0000 00:00:1744550271.643264      58 service.cc:156]   StreamExecutor device (0): Tesla P100-PCIE-16GB, Compute Capability 6.0\n",
      "I0000 00:00:1744550271.827798      58 cuda_dnn.cc:529] Loaded cuDNN version 90300\n"
     ]
    },
    {
     "name": "stdout",
     "output_type": "stream",
     "text": [
      "\u001b[1m  96/1041\u001b[0m \u001b[32m━\u001b[0m\u001b[37m━━━━━━━━━━━━━━━━━━━\u001b[0m \u001b[1m1s\u001b[0m 2ms/step - accuracy: 0.6458 - loss: 1.1598"
     ]
    },
    {
     "name": "stderr",
     "output_type": "stream",
     "text": [
      "I0000 00:00:1744550273.131573      58 device_compiler.h:188] Compiled cluster using XLA!  This line is logged at most once for the lifetime of the process.\n"
     ]
    },
    {
     "name": "stdout",
     "output_type": "stream",
     "text": [
      "\u001b[1m1041/1041\u001b[0m \u001b[32m━━━━━━━━━━━━━━━━━━━━\u001b[0m\u001b[37m\u001b[0m \u001b[1m6s\u001b[0m 3ms/step - accuracy: 0.8818 - loss: 0.3968 - val_accuracy: 0.9730 - val_loss: 0.0801\n",
      "Epoch 2/5\n",
      "\u001b[1m1041/1041\u001b[0m \u001b[32m━━━━━━━━━━━━━━━━━━━━\u001b[0m\u001b[37m\u001b[0m \u001b[1m2s\u001b[0m 2ms/step - accuracy: 0.9811 - loss: 0.0640 - val_accuracy: 0.9784 - val_loss: 0.0663\n",
      "Epoch 3/5\n",
      "\u001b[1m1041/1041\u001b[0m \u001b[32m━━━━━━━━━━━━━━━━━━━━\u001b[0m\u001b[37m\u001b[0m \u001b[1m2s\u001b[0m 2ms/step - accuracy: 0.9878 - loss: 0.0410 - val_accuracy: 0.9811 - val_loss: 0.0603\n",
      "Epoch 4/5\n",
      "\u001b[1m1041/1041\u001b[0m \u001b[32m━━━━━━━━━━━━━━━━━━━━\u001b[0m\u001b[37m\u001b[0m \u001b[1m2s\u001b[0m 2ms/step - accuracy: 0.9927 - loss: 0.0241 - val_accuracy: 0.9789 - val_loss: 0.0685\n",
      "Epoch 5/5\n",
      "\u001b[1m1041/1041\u001b[0m \u001b[32m━━━━━━━━━━━━━━━━━━━━\u001b[0m\u001b[37m\u001b[0m \u001b[1m2s\u001b[0m 2ms/step - accuracy: 0.9953 - loss: 0.0166 - val_accuracy: 0.9835 - val_loss: 0.0592\n"
     ]
    },
    {
     "data": {
      "text/plain": [
       "<keras.src.callbacks.history.History at 0x7fdaaa55aa50>"
      ]
     },
     "execution_count": 4,
     "metadata": {},
     "output_type": "execute_result"
    }
   ],
   "source": [
    "model.fit(x_train, y_train, epochs=5, validation_split=0.1)"
   ]
  },
  {
   "cell_type": "markdown",
   "id": "5d20dd8c",
   "metadata": {
    "papermill": {
     "duration": 0.009689,
     "end_time": "2025-04-13T13:18:03.406562",
     "exception": false,
     "start_time": "2025-04-13T13:18:03.396873",
     "status": "completed"
    },
    "tags": []
   },
   "source": [
    "**On affiche l'évaluation propre**"
   ]
  },
  {
   "cell_type": "code",
   "execution_count": 5,
   "id": "4f5d0029",
   "metadata": {
    "execution": {
     "iopub.execute_input": "2025-04-13T13:18:03.427794Z",
     "iopub.status.busy": "2025-04-13T13:18:03.427170Z",
     "iopub.status.idle": "2025-04-13T13:18:04.019826Z",
     "shell.execute_reply": "2025-04-13T13:18:04.019208Z"
    },
    "papermill": {
     "duration": 0.604488,
     "end_time": "2025-04-13T13:18:04.020896",
     "exception": false,
     "start_time": "2025-04-13T13:18:03.416408",
     "status": "completed"
    },
    "tags": []
   },
   "outputs": [
    {
     "name": "stdout",
     "output_type": "stream",
     "text": [
      "157/157 - 1s - 3ms/step - accuracy: 0.9816 - loss: 0.0562\n",
      "\n",
      "Clean test accuracy: 0.9815999865531921\n"
     ]
    }
   ],
   "source": [
    "clean_loss, clean_acc = model.evaluate(x_test, y_test, verbose=2)\n",
    "print(\"\\nClean test accuracy:\", clean_acc)"
   ]
  },
  {
   "cell_type": "markdown",
   "id": "ecd139bd",
   "metadata": {
    "papermill": {
     "duration": 0.00956,
     "end_time": "2025-04-13T13:18:04.041106",
     "exception": false,
     "start_time": "2025-04-13T13:18:04.031546",
     "status": "completed"
    },
    "tags": []
   },
   "source": [
    "**FGSM pour les exemples adversariales**"
   ]
  },
  {
   "cell_type": "code",
   "execution_count": 6,
   "id": "c10730c2",
   "metadata": {
    "execution": {
     "iopub.execute_input": "2025-04-13T13:18:04.062282Z",
     "iopub.status.busy": "2025-04-13T13:18:04.061669Z",
     "iopub.status.idle": "2025-04-13T13:18:05.407076Z",
     "shell.execute_reply": "2025-04-13T13:18:05.406469Z"
    },
    "papermill": {
     "duration": 1.357699,
     "end_time": "2025-04-13T13:18:05.408443",
     "exception": false,
     "start_time": "2025-04-13T13:18:04.050744",
     "status": "completed"
    },
    "tags": []
   },
   "outputs": [],
   "source": [
    "def create_adversarial_pattern(model, image, label):\n",
    "    image = tf.convert_to_tensor(image[None, ...])\n",
    "    label = tf.convert_to_tensor(label[None])\n",
    "    \n",
    "    with tf.GradientTape() as tape:\n",
    "        tape.watch(image)\n",
    "        prediction = model(image)\n",
    "        loss = loss_fn(label, prediction)\n",
    "\n",
    "    gradient = tape.gradient(loss, image)\n",
    "    signed_grad = tf.sign(gradient)\n",
    "    return signed_grad\n",
    "\n",
    "epsilon = 0.1\n",
    "adversarial_examples = []\n",
    "for i in range(10):\n",
    "    image = x_test[i]\n",
    "    label = y_test[i]\n",
    "    perturbation = create_adversarial_pattern(model, image, label)\n",
    "    adversarial_img = image + epsilon * perturbation[0]\n",
    "    adversarial_img = tf.clip_by_value(adversarial_img, 0.0, 1.0)\n",
    "    adversarial_examples.append((image, adversarial_img.numpy(), label))"
   ]
  },
  {
   "cell_type": "markdown",
   "id": "60526736",
   "metadata": {
    "papermill": {
     "duration": 0.00968,
     "end_time": "2025-04-13T13:18:05.427992",
     "exception": false,
     "start_time": "2025-04-13T13:18:05.418312",
     "status": "completed"
    },
    "tags": []
   },
   "source": [
    "**On doit visualiser à présent**"
   ]
  },
  {
   "cell_type": "code",
   "execution_count": 7,
   "id": "f933f0cc",
   "metadata": {
    "execution": {
     "iopub.execute_input": "2025-04-13T13:18:05.449330Z",
     "iopub.status.busy": "2025-04-13T13:18:05.448541Z",
     "iopub.status.idle": "2025-04-13T13:18:05.453965Z",
     "shell.execute_reply": "2025-04-13T13:18:05.453456Z"
    },
    "papermill": {
     "duration": 0.016745,
     "end_time": "2025-04-13T13:18:05.454925",
     "exception": false,
     "start_time": "2025-04-13T13:18:05.438180",
     "status": "completed"
    },
    "tags": []
   },
   "outputs": [],
   "source": [
    "def show_comparison(model, original_img, adv_img, label):\n",
    "    pred_clean = np.argmax(model.predict(original_img[None, ...]))\n",
    "    pred_adv = np.argmax(model.predict(adv_img[None, ...]))\n",
    "\n",
    "    plt.figure(figsize=(6,3))\n",
    "    plt.subplot(1,2,1)\n",
    "    plt.imshow(original_img.squeeze(), cmap='gray')\n",
    "    plt.title(f\"Clean\\\\nTrue: {label} | Pred: {pred_clean}\",\n",
    "              color='blue' if pred_clean == label else 'red')\n",
    "    plt.axis('off')\n",
    "\n",
    "    plt.subplot(1,2,2)\n",
    "    plt.imshow(adv_img.squeeze(), cmap='gray')\n",
    "    plt.title(f\"Adversarial\\\\nTrue: {label} | Pred: {pred_adv}\",\n",
    "              color='blue' if pred_adv == label else 'red')\n",
    "    plt.axis('off')\n",
    "\n",
    "    plt.tight_layout()\n",
    "    plt.show()\n"
   ]
  },
  {
   "cell_type": "code",
   "execution_count": 8,
   "id": "4e4cb9ca",
   "metadata": {
    "execution": {
     "iopub.execute_input": "2025-04-13T13:18:05.474667Z",
     "iopub.status.busy": "2025-04-13T13:18:05.474463Z",
     "iopub.status.idle": "2025-04-13T13:18:07.019550Z",
     "shell.execute_reply": "2025-04-13T13:18:07.018801Z"
    },
    "papermill": {
     "duration": 1.556424,
     "end_time": "2025-04-13T13:18:07.020766",
     "exception": false,
     "start_time": "2025-04-13T13:18:05.464342",
     "status": "completed"
    },
    "tags": []
   },
   "outputs": [
    {
     "name": "stdout",
     "output_type": "stream",
     "text": [
      "\u001b[1m1/1\u001b[0m \u001b[32m━━━━━━━━━━━━━━━━━━━━\u001b[0m\u001b[37m\u001b[0m \u001b[1m0s\u001b[0m 260ms/step\n",
      "\u001b[1m1/1\u001b[0m \u001b[32m━━━━━━━━━━━━━━━━━━━━\u001b[0m\u001b[37m\u001b[0m \u001b[1m0s\u001b[0m 16ms/step\n"
     ]
    },
    {
     "data": {
      "image/png": "[encoded data removed]",
      "text/plain": [
       "<Figure size 600x300 with 2 Axes>"
      ]
     },
     "metadata": {},
     "output_type": "display_data"
    },
    {
     "name": "stdout",
     "output_type": "stream",
     "text": [
      "\u001b[1m1/1\u001b[0m \u001b[32m━━━━━━━━━━━━━━━━━━━━\u001b[0m\u001b[37m\u001b[0m \u001b[1m0s\u001b[0m 16ms/step\n",
      "\u001b[1m1/1\u001b[0m \u001b[32m━━━━━━━━━━━━━━━━━━━━\u001b[0m\u001b[37m\u001b[0m \u001b[1m0s\u001b[0m 16ms/step\n"
     ]
    },
    {
     "data": {
      "image/png": "[encoded data removed]",
      "text/plain": [
       "<Figure size 600x300 with 2 Axes>"
      ]
     },
     "metadata": {},
     "output_type": "display_data"
    },
    {
     "name": "stdout",
     "output_type": "stream",
     "text": [
      "\u001b[1m1/1\u001b[0m \u001b[32m━━━━━━━━━━━━━━━━━━━━\u001b[0m\u001b[37m\u001b[0m \u001b[1m0s\u001b[0m 16ms/step\n",
      "\u001b[1m1/1\u001b[0m \u001b[32m━━━━━━━━━━━━━━━━━━━━\u001b[0m\u001b[37m\u001b[0m \u001b[1m0s\u001b[0m 17ms/step\n"
     ]
    },
    {
     "data": {
      "image/png": "[encoded data removed]",
      "text/plain": [
       "<Figure size 600x300 with 2 Axes>"
      ]
     },
     "metadata": {},
     "output_type": "display_data"
    },
    {
     "name": "stdout",
     "output_type": "stream",
     "text": [
      "\u001b[1m1/1\u001b[0m \u001b[32m━━━━━━━━━━━━━━━━━━━━\u001b[0m\u001b[37m\u001b[0m \u001b[1m0s\u001b[0m 17ms/step\n",
      "\u001b[1m1/1\u001b[0m \u001b[32m━━━━━━━━━━━━━━━━━━━━\u001b[0m\u001b[37m\u001b[0m \u001b[1m0s\u001b[0m 16ms/step\n"
     ]
    },
    {
     "data": {
      "image/png": "[encoded data removed]",
      "text/plain": [
       "<Figure size 600x300 with 2 Axes>"
      ]
     },
     "metadata": {},
     "output_type": "display_data"
    },
    {
     "name": "stdout",
     "output_type": "stream",
     "text": [
      "\u001b[1m1/1\u001b[0m \u001b[32m━━━━━━━━━━━━━━━━━━━━\u001b[0m\u001b[37m\u001b[0m \u001b[1m0s\u001b[0m 16ms/step\n",
      "\u001b[1m1/1\u001b[0m \u001b[32m━━━━━━━━━━━━━━━━━━━━\u001b[0m\u001b[37m\u001b[0m \u001b[1m0s\u001b[0m 15ms/step\n"
     ]
    },
    {
     "data": {
      "image/png": "[encoded data removed]",
      "text/plain": [
       "<Figure size 600x300 with 2 Axes>"
      ]
     },
     "metadata": {},
     "output_type": "display_data"
    }
   ],
   "source": [
    "# Afficher la comparaison pour les 5 premiers exemples\n",
    "for i in range(5):\n",
    "    orig, adv, lbl = adversarial_examples[i]\n",
    "    show_comparison(model, orig, adv, lbl)\n"
   ]
  },
  {
   "cell_type": "markdown",
   "id": "9356bc52",
   "metadata": {
    "papermill": {
     "duration": 0.011899,
     "end_time": "2025-04-13T13:18:07.045512",
     "exception": false,
     "start_time": "2025-04-13T13:18:07.033613",
     "status": "completed"
    },
    "tags": []
   },
   "source": [
    "**Entraînement sur les exemples adversaires**"
   ]
  },
  {
   "cell_type": "code",
   "execution_count": 9,
   "id": "0b66a6a2",
   "metadata": {
    "execution": {
     "iopub.execute_input": "2025-04-13T13:18:07.070114Z",
     "iopub.status.busy": "2025-04-13T13:18:07.069502Z",
     "iopub.status.idle": "2025-04-13T13:18:24.193056Z",
     "shell.execute_reply": "2025-04-13T13:18:24.192390Z"
    },
    "papermill": {
     "duration": 17.137252,
     "end_time": "2025-04-13T13:18:24.194225",
     "exception": false,
     "start_time": "2025-04-13T13:18:07.056973",
     "status": "completed"
    },
    "tags": []
   },
   "outputs": [
    {
     "name": "stdout",
     "output_type": "stream",
     "text": [
      "Epoch 1/5\n",
      "\u001b[1m57/57\u001b[0m \u001b[32m━━━━━━━━━━━━━━━━━━━━\u001b[0m\u001b[37m\u001b[0m \u001b[1m3s\u001b[0m 24ms/step - accuracy: 0.5492 - loss: 1.4591 - val_accuracy: 0.8450 - val_loss: 0.4662\n",
      "Epoch 2/5\n",
      "\u001b[1m57/57\u001b[0m \u001b[32m━━━━━━━━━━━━━━━━━━━━\u001b[0m\u001b[37m\u001b[0m \u001b[1m0s\u001b[0m 2ms/step - accuracy: 0.8734 - loss: 0.4108 - val_accuracy: 0.9050 - val_loss: 0.3455\n",
      "Epoch 3/5\n",
      "\u001b[1m57/57\u001b[0m \u001b[32m━━━━━━━━━━━━━━━━━━━━\u001b[0m\u001b[37m\u001b[0m \u001b[1m0s\u001b[0m 2ms/step - accuracy: 0.9328 - loss: 0.2543 - val_accuracy: 0.9250 - val_loss: 0.2631\n",
      "Epoch 4/5\n",
      "\u001b[1m57/57\u001b[0m \u001b[32m━━━━━━━━━━━━━━━━━━━━\u001b[0m\u001b[37m\u001b[0m \u001b[1m0s\u001b[0m 2ms/step - accuracy: 0.9606 - loss: 0.1434 - val_accuracy: 0.9600 - val_loss: 0.1698\n",
      "Epoch 5/5\n",
      "\u001b[1m57/57\u001b[0m \u001b[32m━━━━━━━━━━━━━━━━━━━━\u001b[0m\u001b[37m\u001b[0m \u001b[1m0s\u001b[0m 2ms/step - accuracy: 0.9450 - loss: 0.1815 - val_accuracy: 0.9500 - val_loss: 0.1555\n"
     ]
    },
    {
     "data": {
      "text/plain": [
       "<keras.src.callbacks.history.History at 0x7fdaa9eca790>"
      ]
     },
     "execution_count": 9,
     "metadata": {},
     "output_type": "execute_result"
    }
   ],
   "source": [
    "x_adv_train = []\n",
    "y_adv_train = []\n",
    "\n",
    "for i in range(1000):\n",
    "    image = x_train[i]\n",
    "    label = y_train[i]\n",
    "    perturbation = create_adversarial_pattern(model, image, label)\n",
    "    adversarial_img = image + epsilon * perturbation[0]\n",
    "    adversarial_img = tf.clip_by_value(adversarial_img, 0.0, 1.0)\n",
    "    x_adv_train.append(adversarial_img)\n",
    "    y_adv_train.append(label)\n",
    "\n",
    "x_adv_train = np.array(x_adv_train)\n",
    "y_adv_train = np.array(y_adv_train)\n",
    "\n",
    "x_combined = np.concatenate([x_train[:1000], x_adv_train])\n",
    "y_combined = np.concatenate([y_train[:1000], y_adv_train])\n",
    "\n",
    "model_adv = create_model()\n",
    "model_adv.compile(optimizer='adam', loss=loss_fn, metrics=['accuracy'])\n",
    "model_adv.fit(x_combined, y_combined, epochs=5, validation_split=0.1)\n"
   ]
  },
  {
   "cell_type": "markdown",
   "id": "f2cf28b8",
   "metadata": {
    "papermill": {
     "duration": 0.012301,
     "end_time": "2025-04-13T13:18:24.219385",
     "exception": false,
     "start_time": "2025-04-13T13:18:24.207084",
     "status": "completed"
    },
    "tags": []
   },
   "source": [
    "**Evaluation sur images adversaires**"
   ]
  },
  {
   "cell_type": "code",
   "execution_count": 10,
   "id": "acfcccef",
   "metadata": {
    "execution": {
     "iopub.execute_input": "2025-04-13T13:18:24.245188Z",
     "iopub.status.busy": "2025-04-13T13:18:24.244423Z",
     "iopub.status.idle": "2025-04-13T13:18:25.729145Z",
     "shell.execute_reply": "2025-04-13T13:18:25.728371Z"
    },
    "papermill": {
     "duration": 1.498809,
     "end_time": "2025-04-13T13:18:25.730372",
     "exception": false,
     "start_time": "2025-04-13T13:18:24.231563",
     "status": "completed"
    },
    "tags": []
   },
   "outputs": [
    {
     "name": "stdout",
     "output_type": "stream",
     "text": [
      "\u001b[1m1/1\u001b[0m \u001b[32m━━━━━━━━━━━━━━━━━━━━\u001b[0m\u001b[37m\u001b[0m \u001b[1m0s\u001b[0m 221ms/step\n",
      "\u001b[1m1/1\u001b[0m \u001b[32m━━━━━━━━━━━━━━━━━━━━\u001b[0m\u001b[37m\u001b[0m \u001b[1m0s\u001b[0m 17ms/step\n"
     ]
    },
    {
     "data": {
      "image/png": "[encoded data removed]",
      "text/plain": [
       "<Figure size 600x300 with 2 Axes>"
      ]
     },
     "metadata": {},
     "output_type": "display_data"
    },
    {
     "name": "stdout",
     "output_type": "stream",
     "text": [
      "\u001b[1m1/1\u001b[0m \u001b[32m━━━━━━━━━━━━━━━━━━━━\u001b[0m\u001b[37m\u001b[0m \u001b[1m0s\u001b[0m 17ms/step\n",
      "\u001b[1m1/1\u001b[0m \u001b[32m━━━━━━━━━━━━━━━━━━━━\u001b[0m\u001b[37m\u001b[0m \u001b[1m0s\u001b[0m 18ms/step\n"
     ]
    },
    {
     "data": {
      "image/png": "[encoded data removed]",
      "text/plain": [
       "<Figure size 600x300 with 2 Axes>"
      ]
     },
     "metadata": {},
     "output_type": "display_data"
    },
    {
     "name": "stdout",
     "output_type": "stream",
     "text": [
      "\u001b[1m1/1\u001b[0m \u001b[32m━━━━━━━━━━━━━━━━━━━━\u001b[0m\u001b[37m\u001b[0m \u001b[1m0s\u001b[0m 16ms/step\n",
      "\u001b[1m1/1\u001b[0m \u001b[32m━━━━━━━━━━━━━━━━━━━━\u001b[0m\u001b[37m\u001b[0m \u001b[1m0s\u001b[0m 16ms/step\n"
     ]
    },
    {
     "data": {
      "image/png": "[encoded data removed]",
      "text/plain": [
       "<Figure size 600x300 with 2 Axes>"
      ]
     },
     "metadata": {},
     "output_type": "display_data"
    },
    {
     "name": "stdout",
     "output_type": "stream",
     "text": [
      "\u001b[1m1/1\u001b[0m \u001b[32m━━━━━━━━━━━━━━━━━━━━\u001b[0m\u001b[37m\u001b[0m \u001b[1m0s\u001b[0m 18ms/step\n",
      "\u001b[1m1/1\u001b[0m \u001b[32m━━━━━━━━━━━━━━━━━━━━\u001b[0m\u001b[37m\u001b[0m \u001b[1m0s\u001b[0m 17ms/step\n"
     ]
    },
    {
     "data": {
      "image/png": "[encoded data removed]",
      "text/plain": [
       "<Figure size 600x300 with 2 Axes>"
      ]
     },
     "metadata": {},
     "output_type": "display_data"
    },
    {
     "name": "stdout",
     "output_type": "stream",
     "text": [
      "\u001b[1m1/1\u001b[0m \u001b[32m━━━━━━━━━━━━━━━━━━━━\u001b[0m\u001b[37m\u001b[0m \u001b[1m0s\u001b[0m 17ms/step\n",
      "\u001b[1m1/1\u001b[0m \u001b[32m━━━━━━━━━━━━━━━━━━━━\u001b[0m\u001b[37m\u001b[0m \u001b[1m0s\u001b[0m 17ms/step\n"
     ]
    },
    {
     "data": {
      "image/png": "[encoded data removed]",
      "text/plain": [
       "<Figure size 600x300 with 2 Axes>"
      ]
     },
     "metadata": {},
     "output_type": "display_data"
    }
   ],
   "source": [
    "# Afficher la comparaison pour les 5 premiers exemples pour le modèle entraîné\n",
    "for i in range(5):\n",
    "    orig, adv, lbl = adversarial_examples[i]\n",
    "    show_comparison(model_adv, orig, adv, lbl)\n"
   ]
  },
  {
   "cell_type": "code",
   "execution_count": 11,
   "id": "63bb8475",
   "metadata": {
    "execution": {
     "iopub.execute_input": "2025-04-13T13:18:25.761395Z",
     "iopub.status.busy": "2025-04-13T13:18:25.760827Z",
     "iopub.status.idle": "2025-04-13T13:19:31.681569Z",
     "shell.execute_reply": "2025-04-13T13:19:31.680772Z"
    },
    "papermill": {
     "duration": 65.950883,
     "end_time": "2025-04-13T13:19:31.696248",
     "exception": false,
     "start_time": "2025-04-13T13:18:25.745365",
     "status": "completed"
    },
    "tags": []
   },
   "outputs": [
    {
     "name": "stdout",
     "output_type": "stream",
     "text": [
      "157/157 - 0s - 1ms/step - accuracy: 0.6098 - loss: 1.4203\n",
      "\n",
      "Adversarial test accuracy: 0.6097999811172485\n"
     ]
    }
   ],
   "source": [
    "x_test_adv = []\n",
    "for i in range(len(x_test)):\n",
    "    pert = create_adversarial_pattern(model_adv, x_test[i], y_test[i])\n",
    "    x_test_adv.append(tf.clip_by_value(x_test[i] + epsilon * pert[0], 0.0, 1.0))\n",
    "x_test_adv = np.array(x_test_adv)\n",
    "\n",
    "adv_loss, adv_acc = model_adv.evaluate(x_test_adv, y_test, verbose=2)\n",
    "print(\"\\nAdversarial test accuracy:\", adv_acc)"
   ]
  },
  {
   "cell_type": "markdown",
   "id": "8afc7009",
   "metadata": {
    "papermill": {
     "duration": 0.013937,
     "end_time": "2025-04-13T13:19:31.724390",
     "exception": false,
     "start_time": "2025-04-13T13:19:31.710453",
     "status": "completed"
    },
    "tags": []
   },
   "source": [
    "# **Analyse et défense adversariale**\n",
    "\n",
    "# - *FGSM* : attaque rapide qui perturbe les pixels selon le gradient de perte\n",
    "# - *Adversarial Training* : consiste à inclure les données perturbées pendant l'entraînement\n",
    "\n",
    "# *Accuracy propre* : 0.9847  \n",
    "# *Accuracy avec attaques* : 0.4347  \n",
    "# \n",
    "# *Commentaires* : \n",
    "# - La robustesse augmente contrairement à la première version\n",
    "# - Mais l'entraînement est plus long\n",
    "# - En gros, après entraînement, le modèle apprend à faire moin d'erreur\n"
   ]
  }
 ],
 "metadata": {
  "kaggle": {
   "accelerator": "gpu",
   "dataSources": [
    {
     "datasetId": 7101184,
     "sourceId": 11349085,
     "sourceType": "datasetVersion"
    }
   ],
   "dockerImageVersionId": 31011,
   "isGpuEnabled": true,
   "isInternetEnabled": true,
   "language": "python",
   "sourceType": "notebook"
  },
  "kernelspec": {
   "display_name": "Python 3",
   "language": "python",
   "name": "python3"
  },
  "language_info": {
   "codemirror_mode": {
    "name": "ipython",
    "version": 3
   },
   "file_extension": ".py",
   "mimetype": "text/x-python",
   "name": "python",
   "nbconvert_exporter": "python",
   "pygments_lexer": "ipython3",
   "version": "3.11.11"
  },
  "papermill": {
   "default_parameters": {},
   "duration": 131.368367,
   "end_time": "2025-04-13T13:19:35.078025",
   "environment_variables": {},
   "exception": null,
   "input_path": "__notebook__.ipynb",
   "output_path": "__notebook__.ipynb",
   "parameters": {},
   "start_time": "2025-04-13T13:17:23.709658",
   "version": "2.6.0"
  }
 },
 "nbformat": 4,
 "nbformat_minor": 5
}
