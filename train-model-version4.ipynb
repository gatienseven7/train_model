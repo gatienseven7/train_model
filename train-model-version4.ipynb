{
 "cells": [
  {
   "cell_type": "code",
   "execution_count": 1,
   "id": "bbc328f2",
   "metadata": {
    "execution": {
     "iopub.execute_input": "2025-04-13T13:04:07.486623Z",
     "iopub.status.busy": "2025-04-13T13:04:07.486401Z",
     "iopub.status.idle": "2025-04-13T13:04:21.480399Z",
     "shell.execute_reply": "2025-04-13T13:04:21.479596Z"
    },
    "papermill": {
     "duration": 13.999763,
     "end_time": "2025-04-13T13:04:21.481972",
     "exception": false,
     "start_time": "2025-04-13T13:04:07.482209",
     "status": "completed"
    },
    "tags": []
   },
   "outputs": [
    {
     "name": "stderr",
     "output_type": "stream",
     "text": [
      "2025-04-13 13:04:10.549472: E external/local_xla/xla/stream_executor/cuda/cuda_fft.cc:477] Unable to register cuFFT factory: Attempting to register factory for plugin cuFFT when one has already been registered\n",
      "WARNING: All log messages before absl::InitializeLog() is called are written to STDERR\n",
      "E0000 00:00:1744549450.745378      19 cuda_dnn.cc:8310] Unable to register cuDNN factory: Attempting to register factory for plugin cuDNN when one has already been registered\n",
      "E0000 00:00:1744549450.801809      19 cuda_blas.cc:1418] Unable to register cuBLAS factory: Attempting to register factory for plugin cuBLAS when one has already been registered\n"
     ]
    }
   ],
   "source": [
    "import numpy as np\n",
    "import pandas as pd\n",
    "import tensorflow as tf\n",
    "import matplotlib.pyplot as plt\n"
   ]
  },
  {
   "cell_type": "markdown",
   "id": "1ddbccf9",
   "metadata": {
    "papermill": {
     "duration": 0.002594,
     "end_time": "2025-04-13T13:04:21.487839",
     "exception": false,
     "start_time": "2025-04-13T13:04:21.485245",
     "status": "completed"
    },
    "tags": []
   },
   "source": [
    "**Chargement des données**"
   ]
  },
  {
   "cell_type": "code",
   "execution_count": 2,
   "id": "8d3e24a8",
   "metadata": {
    "execution": {
     "iopub.execute_input": "2025-04-13T13:04:21.494752Z",
     "iopub.status.busy": "2025-04-13T13:04:21.493894Z",
     "iopub.status.idle": "2025-04-13T13:04:26.994304Z",
     "shell.execute_reply": "2025-04-13T13:04:26.993700Z"
    },
    "papermill": {
     "duration": 5.505309,
     "end_time": "2025-04-13T13:04:26.995859",
     "exception": false,
     "start_time": "2025-04-13T13:04:21.490550",
     "status": "completed"
    },
    "tags": []
   },
   "outputs": [],
   "source": [
    "train_df = pd.read_csv(\"/kaggle/input/training-model/train.csv\")\n",
    "test_df = pd.read_csv(\"/kaggle/input/training-model/test.csv\")\n",
    "\n",
    "x_train = train_df.drop(\"label\", axis=1).values.reshape(-1, 28, 28, 1) / 255.0\n",
    "y_train = train_df[\"label\"].values\n",
    "\n",
    "x_test = x_train[-5000:]\n",
    "y_test = y_train[-5000:]\n",
    "x_train = x_train[:-5000]\n",
    "y_train = y_train[:-5000]"
   ]
  },
  {
   "cell_type": "markdown",
   "id": "621ad8d1",
   "metadata": {
    "papermill": {
     "duration": 0.003122,
     "end_time": "2025-04-13T13:04:27.002309",
     "exception": false,
     "start_time": "2025-04-13T13:04:26.999187",
     "status": "completed"
    },
    "tags": []
   },
   "source": [
    "**Création du modèle (CNN)**"
   ]
  },
  {
   "cell_type": "code",
   "execution_count": 3,
   "id": "22cf2092",
   "metadata": {
    "execution": {
     "iopub.execute_input": "2025-04-13T13:04:27.008873Z",
     "iopub.status.busy": "2025-04-13T13:04:27.008620Z",
     "iopub.status.idle": "2025-04-13T13:04:29.186331Z",
     "shell.execute_reply": "2025-04-13T13:04:29.185767Z"
    },
    "papermill": {
     "duration": 2.182317,
     "end_time": "2025-04-13T13:04:29.187635",
     "exception": false,
     "start_time": "2025-04-13T13:04:27.005318",
     "status": "completed"
    },
    "tags": []
   },
   "outputs": [
    {
     "name": "stderr",
     "output_type": "stream",
     "text": [
      "/usr/local/lib/python3.11/dist-packages/keras/src/layers/convolutional/base_conv.py:107: UserWarning: Do not pass an `input_shape`/`input_dim` argument to a layer. When using Sequential models, prefer using an `Input(shape)` object as the first layer in the model instead.\n",
      "  super().__init__(activity_regularizer=activity_regularizer, **kwargs)\n",
      "I0000 00:00:1744549467.988086      19 gpu_device.cc:2022] Created device /job:localhost/replica:0/task:0/device:GPU:0 with 15513 MB memory:  -> device: 0, name: Tesla P100-PCIE-16GB, pci bus id: 0000:00:04.0, compute capability: 6.0\n"
     ]
    }
   ],
   "source": [
    "def create_model():\n",
    "    model = tf.keras.Sequential([\n",
    "        tf.keras.layers.Conv2D(32, (3,3), activation='relu', input_shape=(28,28,1)),\n",
    "        tf.keras.layers.MaxPooling2D(),\n",
    "        tf.keras.layers.Flatten(),\n",
    "        tf.keras.layers.Dense(100, activation='relu'),\n",
    "        tf.keras.layers.Dense(10)\n",
    "    ])\n",
    "    return model\n",
    "\n",
    "model = create_model()\n",
    "loss_fn = tf.keras.losses.SparseCategoricalCrossentropy(from_logits=True)\n",
    "model.compile(optimizer='adam', loss=loss_fn, metrics=['accuracy'])\n"
   ]
  },
  {
   "cell_type": "markdown",
   "id": "4eda827f",
   "metadata": {
    "papermill": {
     "duration": 0.002882,
     "end_time": "2025-04-13T13:04:29.193641",
     "exception": false,
     "start_time": "2025-04-13T13:04:29.190759",
     "status": "completed"
    },
    "tags": []
   },
   "source": [
    "**Entraînement initial**"
   ]
  },
  {
   "cell_type": "code",
   "execution_count": 4,
   "id": "70122a16",
   "metadata": {
    "execution": {
     "iopub.execute_input": "2025-04-13T13:04:29.200104Z",
     "iopub.status.busy": "2025-04-13T13:04:29.199907Z",
     "iopub.status.idle": "2025-04-13T13:04:42.096984Z",
     "shell.execute_reply": "2025-04-13T13:04:42.096334Z"
    },
    "papermill": {
     "duration": 12.901634,
     "end_time": "2025-04-13T13:04:42.098106",
     "exception": false,
     "start_time": "2025-04-13T13:04:29.196472",
     "status": "completed"
    },
    "tags": []
   },
   "outputs": [
    {
     "name": "stdout",
     "output_type": "stream",
     "text": [
      "Epoch 1/5\n"
     ]
    },
    {
     "name": "stderr",
     "output_type": "stream",
     "text": [
      "WARNING: All log messages before absl::InitializeLog() is called are written to STDERR\n",
      "I0000 00:00:1744549470.841527      57 service.cc:148] XLA service 0x7b0460008510 initialized for platform CUDA (this does not guarantee that XLA will be used). Devices:\n",
      "I0000 00:00:1744549470.842452      57 service.cc:156]   StreamExecutor device (0): Tesla P100-PCIE-16GB, Compute Capability 6.0\n",
      "I0000 00:00:1744549471.033064      57 cuda_dnn.cc:529] Loaded cuDNN version 90300\n"
     ]
    },
    {
     "name": "stdout",
     "output_type": "stream",
     "text": [
      "\u001b[1m 102/1041\u001b[0m \u001b[32m━\u001b[0m\u001b[37m━━━━━━━━━━━━━━━━━━━\u001b[0m \u001b[1m1s\u001b[0m 2ms/step - accuracy: 0.6297 - loss: 1.1698"
     ]
    },
    {
     "name": "stderr",
     "output_type": "stream",
     "text": [
      "I0000 00:00:1744549472.298484      57 device_compiler.h:188] Compiled cluster using XLA!  This line is logged at most once for the lifetime of the process.\n"
     ]
    },
    {
     "name": "stdout",
     "output_type": "stream",
     "text": [
      "\u001b[1m1041/1041\u001b[0m \u001b[32m━━━━━━━━━━━━━━━━━━━━\u001b[0m\u001b[37m\u001b[0m \u001b[1m6s\u001b[0m 3ms/step - accuracy: 0.8703 - loss: 0.4275 - val_accuracy: 0.9724 - val_loss: 0.0920\n",
      "Epoch 2/5\n",
      "\u001b[1m1041/1041\u001b[0m \u001b[32m━━━━━━━━━━━━━━━━━━━━\u001b[0m\u001b[37m\u001b[0m \u001b[1m2s\u001b[0m 2ms/step - accuracy: 0.9773 - loss: 0.0757 - val_accuracy: 0.9759 - val_loss: 0.0771\n",
      "Epoch 3/5\n",
      "\u001b[1m1041/1041\u001b[0m \u001b[32m━━━━━━━━━━━━━━━━━━━━\u001b[0m\u001b[37m\u001b[0m \u001b[1m2s\u001b[0m 2ms/step - accuracy: 0.9861 - loss: 0.0452 - val_accuracy: 0.9835 - val_loss: 0.0577\n",
      "Epoch 4/5\n",
      "\u001b[1m1041/1041\u001b[0m \u001b[32m━━━━━━━━━━━━━━━━━━━━\u001b[0m\u001b[37m\u001b[0m \u001b[1m2s\u001b[0m 2ms/step - accuracy: 0.9910 - loss: 0.0299 - val_accuracy: 0.9814 - val_loss: 0.0595\n",
      "Epoch 5/5\n",
      "\u001b[1m1041/1041\u001b[0m \u001b[32m━━━━━━━━━━━━━━━━━━━━\u001b[0m\u001b[37m\u001b[0m \u001b[1m2s\u001b[0m 2ms/step - accuracy: 0.9943 - loss: 0.0197 - val_accuracy: 0.9819 - val_loss: 0.0610\n"
     ]
    },
    {
     "data": {
      "text/plain": [
       "<keras.src.callbacks.history.History at 0x7b05547b8c50>"
      ]
     },
     "execution_count": 4,
     "metadata": {},
     "output_type": "execute_result"
    }
   ],
   "source": [
    "model.fit(x_train, y_train, epochs=5, validation_split=0.1)"
   ]
  },
  {
   "cell_type": "markdown",
   "id": "7ef8696a",
   "metadata": {
    "papermill": {
     "duration": 0.009123,
     "end_time": "2025-04-13T13:04:42.117291",
     "exception": false,
     "start_time": "2025-04-13T13:04:42.108168",
     "status": "completed"
    },
    "tags": []
   },
   "source": [
    "**On affiche l'évaluation propre**"
   ]
  },
  {
   "cell_type": "code",
   "execution_count": 5,
   "id": "3e56a457",
   "metadata": {
    "execution": {
     "iopub.execute_input": "2025-04-13T13:04:42.136230Z",
     "iopub.status.busy": "2025-04-13T13:04:42.136005Z",
     "iopub.status.idle": "2025-04-13T13:04:42.698202Z",
     "shell.execute_reply": "2025-04-13T13:04:42.697539Z"
    },
    "papermill": {
     "duration": 0.572948,
     "end_time": "2025-04-13T13:04:42.699254",
     "exception": false,
     "start_time": "2025-04-13T13:04:42.126306",
     "status": "completed"
    },
    "tags": []
   },
   "outputs": [
    {
     "name": "stdout",
     "output_type": "stream",
     "text": [
      "157/157 - 0s - 3ms/step - accuracy: 0.9844 - loss: 0.0555\n",
      "\n",
      "Clean test accuracy: 0.9843999743461609\n"
     ]
    }
   ],
   "source": [
    "clean_loss, clean_acc = model.evaluate(x_test, y_test, verbose=2)\n",
    "print(\"\\nClean test accuracy:\", clean_acc)"
   ]
  },
  {
   "cell_type": "markdown",
   "id": "4f3c52ff",
   "metadata": {
    "papermill": {
     "duration": 0.008953,
     "end_time": "2025-04-13T13:04:42.718186",
     "exception": false,
     "start_time": "2025-04-13T13:04:42.709233",
     "status": "completed"
    },
    "tags": []
   },
   "source": [
    "**FGSM pour les exemples adversariales**"
   ]
  },
  {
   "cell_type": "code",
   "execution_count": 6,
   "id": "d95ba96f",
   "metadata": {
    "execution": {
     "iopub.execute_input": "2025-04-13T13:04:42.737305Z",
     "iopub.status.busy": "2025-04-13T13:04:42.736687Z",
     "iopub.status.idle": "2025-04-13T13:04:44.017445Z",
     "shell.execute_reply": "2025-04-13T13:04:44.016893Z"
    },
    "papermill": {
     "duration": 1.291651,
     "end_time": "2025-04-13T13:04:44.018826",
     "exception": false,
     "start_time": "2025-04-13T13:04:42.727175",
     "status": "completed"
    },
    "tags": []
   },
   "outputs": [],
   "source": [
    "def create_adversarial_pattern(model, image, label):\n",
    "    image = tf.convert_to_tensor(image[None, ...])\n",
    "    label = tf.convert_to_tensor(label[None])\n",
    "    \n",
    "    with tf.GradientTape() as tape:\n",
    "        tape.watch(image)\n",
    "        prediction = model(image)\n",
    "        loss = loss_fn(label, prediction)\n",
    "\n",
    "    gradient = tape.gradient(loss, image)\n",
    "    signed_grad = tf.sign(gradient)\n",
    "    return signed_grad\n",
    "\n",
    "epsilon = 0.1\n",
    "adversarial_examples = []\n",
    "for i in range(10):\n",
    "    image = x_test[i]\n",
    "    label = y_test[i]\n",
    "    perturbation = create_adversarial_pattern(model, image, label)\n",
    "    adversarial_img = image + epsilon * perturbation[0]\n",
    "    adversarial_img = tf.clip_by_value(adversarial_img, 0.0, 1.0)\n",
    "    adversarial_examples.append((image, adversarial_img.numpy(), label))"
   ]
  },
  {
   "cell_type": "markdown",
   "id": "a708b849",
   "metadata": {
    "papermill": {
     "duration": 0.008913,
     "end_time": "2025-04-13T13:04:44.037261",
     "exception": false,
     "start_time": "2025-04-13T13:04:44.028348",
     "status": "completed"
    },
    "tags": []
   },
   "source": [
    "**On doit visualiser à présent**"
   ]
  },
  {
   "cell_type": "code",
   "execution_count": 7,
   "id": "91e7bd13",
   "metadata": {
    "execution": {
     "iopub.execute_input": "2025-04-13T13:04:44.056749Z",
     "iopub.status.busy": "2025-04-13T13:04:44.056117Z",
     "iopub.status.idle": "2025-04-13T13:04:44.061763Z",
     "shell.execute_reply": "2025-04-13T13:04:44.061015Z"
    },
    "papermill": {
     "duration": 0.01646,
     "end_time": "2025-04-13T13:04:44.062809",
     "exception": false,
     "start_time": "2025-04-13T13:04:44.046349",
     "status": "completed"
    },
    "tags": []
   },
   "outputs": [],
   "source": [
    "def show_comparison(model, original_img, adv_img, label):\n",
    "    pred_clean = np.argmax(model.predict(original_img[None, ...]))\n",
    "    pred_adv = np.argmax(model.predict(adv_img[None, ...]))\n",
    "\n",
    "    plt.figure(figsize=(6,3))\n",
    "    plt.subplot(1,2,1)\n",
    "    plt.imshow(original_img.squeeze(), cmap='gray')\n",
    "    plt.title(f\"Clean\\\\nTrue: {label} | Pred: {pred_clean}\",\n",
    "              color='blue' if pred_clean == label else 'red')\n",
    "    plt.axis('off')\n",
    "\n",
    "    plt.subplot(1,2,2)\n",
    "    plt.imshow(adv_img.squeeze(), cmap='gray')\n",
    "    plt.title(f\"Adversarial\\\\nTrue: {label} | Pred: {pred_adv}\",\n",
    "              color='blue' if pred_adv == label else 'red')\n",
    "    plt.axis('off')\n",
    "\n",
    "    plt.tight_layout()\n",
    "    plt.show()\n"
   ]
  },
  {
   "cell_type": "code",
   "execution_count": 8,
   "id": "238844c0",
   "metadata": {
    "execution": {
     "iopub.execute_input": "2025-04-13T13:04:44.081991Z",
     "iopub.status.busy": "2025-04-13T13:04:44.081420Z",
     "iopub.status.idle": "2025-04-13T13:04:45.544463Z",
     "shell.execute_reply": "2025-04-13T13:04:45.543764Z"
    },
    "papermill": {
     "duration": 1.473815,
     "end_time": "2025-04-13T13:04:45.545695",
     "exception": false,
     "start_time": "2025-04-13T13:04:44.071880",
     "status": "completed"
    },
    "tags": []
   },
   "outputs": [
    {
     "name": "stdout",
     "output_type": "stream",
     "text": [
      "\u001b[1m1/1\u001b[0m \u001b[32m━━━━━━━━━━━━━━━━━━━━\u001b[0m\u001b[37m\u001b[0m \u001b[1m0s\u001b[0m 255ms/step\n",
      "\u001b[1m1/1\u001b[0m \u001b[32m━━━━━━━━━━━━━━━━━━━━\u001b[0m\u001b[37m\u001b[0m \u001b[1m0s\u001b[0m 16ms/step\n"
     ]
    },
    {
     "data": {
      "image/png": "[encoded data removed]",
      "text/plain": [
       "<Figure size 600x300 with 2 Axes>"
      ]
     },
     "metadata": {},
     "output_type": "display_data"
    },
    {
     "name": "stdout",
     "output_type": "stream",
     "text": [
      "\u001b[1m1/1\u001b[0m \u001b[32m━━━━━━━━━━━━━━━━━━━━\u001b[0m\u001b[37m\u001b[0m \u001b[1m0s\u001b[0m 15ms/step\n",
      "\u001b[1m1/1\u001b[0m \u001b[32m━━━━━━━━━━━━━━━━━━━━\u001b[0m\u001b[37m\u001b[0m \u001b[1m0s\u001b[0m 15ms/step\n"
     ]
    },
    {
     "data": {
      "image/png": "[encoded data removed]",
      "text/plain": [
       "<Figure size 600x300 with 2 Axes>"
      ]
     },
     "metadata": {},
     "output_type": "display_data"
    },
    {
     "name": "stdout",
     "output_type": "stream",
     "text": [
      "\u001b[1m1/1\u001b[0m \u001b[32m━━━━━━━━━━━━━━━━━━━━\u001b[0m\u001b[37m\u001b[0m \u001b[1m0s\u001b[0m 16ms/step\n",
      "\u001b[1m1/1\u001b[0m \u001b[32m━━━━━━━━━━━━━━━━━━━━\u001b[0m\u001b[37m\u001b[0m \u001b[1m0s\u001b[0m 15ms/step\n"
     ]
    },
    {
     "data": {
      "image/png": "[encoded data removed]",
      "text/plain": [
       "<Figure size 600x300 with 2 Axes>"
      ]
     },
     "metadata": {},
     "output_type": "display_data"
    },
    {
     "name": "stdout",
     "output_type": "stream",
     "text": [
      "\u001b[1m1/1\u001b[0m \u001b[32m━━━━━━━━━━━━━━━━━━━━\u001b[0m\u001b[37m\u001b[0m \u001b[1m0s\u001b[0m 15ms/step\n",
      "\u001b[1m1/1\u001b[0m \u001b[32m━━━━━━━━━━━━━━━━━━━━\u001b[0m\u001b[37m\u001b[0m \u001b[1m0s\u001b[0m 15ms/step\n"
     ]
    },
    {
     "data": {
      "image/png": "[encoded data removed]",
      "text/plain": [
       "<Figure size 600x300 with 2 Axes>"
      ]
     },
     "metadata": {},
     "output_type": "display_data"
    },
    {
     "name": "stdout",
     "output_type": "stream",
     "text": [
      "\u001b[1m1/1\u001b[0m \u001b[32m━━━━━━━━━━━━━━━━━━━━\u001b[0m\u001b[37m\u001b[0m \u001b[1m0s\u001b[0m 16ms/step\n",
      "\u001b[1m1/1\u001b[0m \u001b[32m━━━━━━━━━━━━━━━━━━━━\u001b[0m\u001b[37m\u001b[0m \u001b[1m0s\u001b[0m 15ms/step\n"
     ]
    },
    {
     "data": {
      "image/png": "[encoded data removed]",
      "text/plain": [
       "<Figure size 600x300 with 2 Axes>"
      ]
     },
     "metadata": {},
     "output_type": "display_data"
    }
   ],
   "source": [
    "# Afficher la comparaison pour les 5 premiers exemples\n",
    "for i in range(5):\n",
    "    orig, adv, lbl = adversarial_examples[i]\n",
    "    show_comparison(model, orig, adv, lbl)\n"
   ]
  },
  {
   "cell_type": "markdown",
   "id": "f596eefa",
   "metadata": {
    "papermill": {
     "duration": 0.010747,
     "end_time": "2025-04-13T13:04:45.567948",
     "exception": false,
     "start_time": "2025-04-13T13:04:45.557201",
     "status": "completed"
    },
    "tags": []
   },
   "source": [
    "**Entraînement sur les exemples adversaires**"
   ]
  },
  {
   "cell_type": "code",
   "execution_count": 9,
   "id": "205961a4",
   "metadata": {
    "execution": {
     "iopub.execute_input": "2025-04-13T13:04:45.591341Z",
     "iopub.status.busy": "2025-04-13T13:04:45.591096Z",
     "iopub.status.idle": "2025-04-13T13:05:01.847923Z",
     "shell.execute_reply": "2025-04-13T13:05:01.847172Z"
    },
    "papermill": {
     "duration": 16.270018,
     "end_time": "2025-04-13T13:05:01.849052",
     "exception": false,
     "start_time": "2025-04-13T13:04:45.579034",
     "status": "completed"
    },
    "tags": []
   },
   "outputs": [
    {
     "name": "stdout",
     "output_type": "stream",
     "text": [
      "Epoch 1/5\n",
      "\u001b[1m57/57\u001b[0m \u001b[32m━━━━━━━━━━━━━━━━━━━━\u001b[0m\u001b[37m\u001b[0m \u001b[1m3s\u001b[0m 23ms/step - accuracy: 0.5470 - loss: 1.4739 - val_accuracy: 0.8300 - val_loss: 0.5067\n",
      "Epoch 2/5\n",
      "\u001b[1m57/57\u001b[0m \u001b[32m━━━━━━━━━━━━━━━━━━━━\u001b[0m\u001b[37m\u001b[0m \u001b[1m0s\u001b[0m 2ms/step - accuracy: 0.8832 - loss: 0.3696 - val_accuracy: 0.9300 - val_loss: 0.2467\n",
      "Epoch 3/5\n",
      "\u001b[1m57/57\u001b[0m \u001b[32m━━━━━━━━━━━━━━━━━━━━\u001b[0m\u001b[37m\u001b[0m \u001b[1m0s\u001b[0m 2ms/step - accuracy: 0.9466 - loss: 0.2001 - val_accuracy: 0.9400 - val_loss: 0.1856\n",
      "Epoch 4/5\n",
      "\u001b[1m57/57\u001b[0m \u001b[32m━━━━━━━━━━━━━━━━━━━━\u001b[0m\u001b[37m\u001b[0m \u001b[1m0s\u001b[0m 2ms/step - accuracy: 0.9631 - loss: 0.1307 - val_accuracy: 0.9400 - val_loss: 0.1618\n",
      "Epoch 5/5\n",
      "\u001b[1m57/57\u001b[0m \u001b[32m━━━━━━━━━━━━━━━━━━━━\u001b[0m\u001b[37m\u001b[0m \u001b[1m0s\u001b[0m 2ms/step - accuracy: 0.9816 - loss: 0.0738 - val_accuracy: 0.9800 - val_loss: 0.0573\n"
     ]
    },
    {
     "data": {
      "text/plain": [
       "<keras.src.callbacks.history.History at 0x7b05340ce910>"
      ]
     },
     "execution_count": 9,
     "metadata": {},
     "output_type": "execute_result"
    }
   ],
   "source": [
    "x_adv_train = []\n",
    "y_adv_train = []\n",
    "\n",
    "for i in range(1000):\n",
    "    image = x_train[i]\n",
    "    label = y_train[i]\n",
    "    perturbation = create_adversarial_pattern(model, image, label)\n",
    "    adversarial_img = image + epsilon * perturbation[0]\n",
    "    adversarial_img = tf.clip_by_value(adversarial_img, 0.0, 1.0)\n",
    "    x_adv_train.append(adversarial_img)\n",
    "    y_adv_train.append(label)\n",
    "\n",
    "x_adv_train = np.array(x_adv_train)\n",
    "y_adv_train = np.array(y_adv_train)\n",
    "\n",
    "x_combined = np.concatenate([x_train[:1000], x_adv_train])\n",
    "y_combined = np.concatenate([y_train[:1000], y_adv_train])\n",
    "\n",
    "model_adv = create_model()\n",
    "model_adv.compile(optimizer='adam', loss=loss_fn, metrics=['accuracy'])\n",
    "model_adv.fit(x_combined, y_combined, epochs=5, validation_split=0.1)\n"
   ]
  },
  {
   "cell_type": "markdown",
   "id": "d0008e5c",
   "metadata": {
    "papermill": {
     "duration": 0.011499,
     "end_time": "2025-04-13T13:05:01.872718",
     "exception": false,
     "start_time": "2025-04-13T13:05:01.861219",
     "status": "completed"
    },
    "tags": []
   },
   "source": [
    "**Evaluation sur images adversaires**"
   ]
  },
  {
   "cell_type": "code",
   "execution_count": 10,
   "id": "e3ae2cee",
   "metadata": {
    "execution": {
     "iopub.execute_input": "2025-04-13T13:05:01.897150Z",
     "iopub.status.busy": "2025-04-13T13:05:01.896916Z",
     "iopub.status.idle": "2025-04-13T13:05:03.310667Z",
     "shell.execute_reply": "2025-04-13T13:05:03.309973Z"
    },
    "papermill": {
     "duration": 1.427525,
     "end_time": "2025-04-13T13:05:03.312055",
     "exception": false,
     "start_time": "2025-04-13T13:05:01.884530",
     "status": "completed"
    },
    "tags": []
   },
   "outputs": [
    {
     "name": "stdout",
     "output_type": "stream",
     "text": [
      "\u001b[1m1/1\u001b[0m \u001b[32m━━━━━━━━━━━━━━━━━━━━\u001b[0m\u001b[37m\u001b[0m \u001b[1m0s\u001b[0m 235ms/step\n",
      "\u001b[1m1/1\u001b[0m \u001b[32m━━━━━━━━━━━━━━━━━━━━\u001b[0m\u001b[37m\u001b[0m \u001b[1m0s\u001b[0m 16ms/step\n"
     ]
    },
    {
     "data": {
      "image/png": "[encoded data removed]",
      "text/plain": [
       "<Figure size 600x300 with 2 Axes>"
      ]
     },
     "metadata": {},
     "output_type": "display_data"
    },
    {
     "name": "stdout",
     "output_type": "stream",
     "text": [
      "\u001b[1m1/1\u001b[0m \u001b[32m━━━━━━━━━━━━━━━━━━━━\u001b[0m\u001b[37m\u001b[0m \u001b[1m0s\u001b[0m 16ms/step\n",
      "\u001b[1m1/1\u001b[0m \u001b[32m━━━━━━━━━━━━━━━━━━━━\u001b[0m\u001b[37m\u001b[0m \u001b[1m0s\u001b[0m 15ms/step\n"
     ]
    },
    {
     "data": {
      "image/png": "[encoded data removed]",
      "text/plain": [
       "<Figure size 600x300 with 2 Axes>"
      ]
     },
     "metadata": {},
     "output_type": "display_data"
    },
    {
     "name": "stdout",
     "output_type": "stream",
     "text": [
      "\u001b[1m1/1\u001b[0m \u001b[32m━━━━━━━━━━━━━━━━━━━━\u001b[0m\u001b[37m\u001b[0m \u001b[1m0s\u001b[0m 16ms/step\n",
      "\u001b[1m1/1\u001b[0m \u001b[32m━━━━━━━━━━━━━━━━━━━━\u001b[0m\u001b[37m\u001b[0m \u001b[1m0s\u001b[0m 15ms/step\n"
     ]
    },
    {
     "data": {
      "image/png": "[encoded data removed]",
      "text/plain": [
       "<Figure size 600x300 with 2 Axes>"
      ]
     },
     "metadata": {},
     "output_type": "display_data"
    },
    {
     "name": "stdout",
     "output_type": "stream",
     "text": [
      "\u001b[1m1/1\u001b[0m \u001b[32m━━━━━━━━━━━━━━━━━━━━\u001b[0m\u001b[37m\u001b[0m \u001b[1m0s\u001b[0m 16ms/step\n",
      "\u001b[1m1/1\u001b[0m \u001b[32m━━━━━━━━━━━━━━━━━━━━\u001b[0m\u001b[37m\u001b[0m \u001b[1m0s\u001b[0m 15ms/step\n"
     ]
    },
    {
     "data": {
      "image/png": "[encoded data removed]",
      "text/plain": [
       "<Figure size 600x300 with 2 Axes>"
      ]
     },
     "metadata": {},
     "output_type": "display_data"
    },
    {
     "name": "stdout",
     "output_type": "stream",
     "text": [
      "\u001b[1m1/1\u001b[0m \u001b[32m━━━━━━━━━━━━━━━━━━━━\u001b[0m\u001b[37m\u001b[0m \u001b[1m0s\u001b[0m 16ms/step\n",
      "\u001b[1m1/1\u001b[0m \u001b[32m━━━━━━━━━━━━━━━━━━━━\u001b[0m\u001b[37m\u001b[0m \u001b[1m0s\u001b[0m 15ms/step\n"
     ]
    },
    {
     "data": {
      "image/png": "[encoded data removed]",
      "text/plain": [
       "<Figure size 600x300 with 2 Axes>"
      ]
     },
     "metadata": {},
     "output_type": "display_data"
    }
   ],
   "source": [
    "# Afficher la comparaison pour les 5 premiers exemples pour le modèle entraîné\n",
    "for i in range(5):\n",
    "    orig, adv, lbl = adversarial_examples[i]\n",
    "    show_comparison(model_adv, orig, adv, lbl)\n"
   ]
  },
  {
   "cell_type": "code",
   "execution_count": 11,
   "id": "a9d01cca",
   "metadata": {
    "execution": {
     "iopub.execute_input": "2025-04-13T13:05:03.341494Z",
     "iopub.status.busy": "2025-04-13T13:05:03.341247Z",
     "iopub.status.idle": "2025-04-13T13:06:05.567002Z",
     "shell.execute_reply": "2025-04-13T13:06:05.566274Z"
    },
    "papermill": {
     "duration": 62.254276,
     "end_time": "2025-04-13T13:06:05.580995",
     "exception": false,
     "start_time": "2025-04-13T13:05:03.326719",
     "status": "completed"
    },
    "tags": []
   },
   "outputs": [
    {
     "name": "stdout",
     "output_type": "stream",
     "text": [
      "157/157 - 0s - 1ms/step - accuracy: 0.4918 - loss: 1.8921\n",
      "\n",
      "Adversarial test accuracy: 0.4918000102043152\n"
     ]
    }
   ],
   "source": [
    "x_test_adv = []\n",
    "for i in range(len(x_test)):\n",
    "    pert = create_adversarial_pattern(model_adv, x_test[i], y_test[i])\n",
    "    x_test_adv.append(tf.clip_by_value(x_test[i] + epsilon * pert[0], 0.0, 1.0))\n",
    "x_test_adv = np.array(x_test_adv)\n",
    "\n",
    "adv_loss, adv_acc = model_adv.evaluate(x_test_adv, y_test, verbose=2)\n",
    "print(\"\\nAdversarial test accuracy:\", adv_acc)"
   ]
  },
  {
   "cell_type": "markdown",
   "id": "b90a7d8b",
   "metadata": {
    "papermill": {
     "duration": 0.013403,
     "end_time": "2025-04-13T13:06:05.608052",
     "exception": false,
     "start_time": "2025-04-13T13:06:05.594649",
     "status": "completed"
    },
    "tags": []
   },
   "source": [
    "# **Analyse et défense adversariale**\n",
    "\n",
    "# - *FGSM* : attaque rapide qui perturbe les pixels selon le gradient de perte\n",
    "# - *Adversarial Training* : consiste à inclure les données perturbées pendant l'entraînement\n",
    "\n",
    "# *Accuracy propre* : 0.9847  \n",
    "# *Accuracy avec attaques* : 0.4347  \n",
    "# \n",
    "# *Commentaires* : \n",
    "# - La robustesse augmente contrairement à la première version\n",
    "# - Mais l'entraînement est plus long\n",
    "# - En gros, après entraînement, comme on le voit plus haut, sur 5 images avant on avait un taux d'échec de 2/5 mais après entraînement il est passé à 1/5 \n"
   ]
  }
 ],
 "metadata": {
  "kaggle": {
   "accelerator": "gpu",
   "dataSources": [
    {
     "datasetId": 7101184,
     "sourceId": 11349085,
     "sourceType": "datasetVersion"
    }
   ],
   "dockerImageVersionId": 31011,
   "isGpuEnabled": true,
   "isInternetEnabled": true,
   "language": "python",
   "sourceType": "notebook"
  },
  "kernelspec": {
   "display_name": "Python 3",
   "language": "python",
   "name": "python3"
  },
  "language_info": {
   "codemirror_mode": {
    "name": "ipython",
    "version": 3
   },
   "file_extension": ".py",
   "mimetype": "text/x-python",
   "name": "python",
   "nbconvert_exporter": "python",
   "pygments_lexer": "ipython3",
   "version": "3.11.11"
  },
  "papermill": {
   "default_parameters": {},
   "duration": 125.267236,
   "end_time": "2025-04-13T13:06:08.704173",
   "environment_variables": {},
   "exception": null,
   "input_path": "__notebook__.ipynb",
   "output_path": "__notebook__.ipynb",
   "parameters": {},
   "start_time": "2025-04-13T13:04:03.436937",
   "version": "2.6.0"
  }
 },
 "nbformat": 4,
 "nbformat_minor": 5
}
